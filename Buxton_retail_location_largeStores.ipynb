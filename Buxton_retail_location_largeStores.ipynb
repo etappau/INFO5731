{
  "nbformat": 4,
  "nbformat_minor": 0,
  "metadata": {
    "colab": {
      "name": "Buxton_retail_location_largeStores.ipynb",
      "version": "0.3.2",
      "provenance": [],
      "collapsed_sections": [],
      "include_colab_link": true
    },
    "kernelspec": {
      "name": "python3",
      "display_name": "Python 3"
    }
  },
  "cells": [
    {
      "cell_type": "markdown",
      "metadata": {
        "id": "view-in-github",
        "colab_type": "text"
      },
      "source": [
        "<a href=\"https://colab.research.google.com/github/etappau/info5731/blob/master/Buxton_retail_location_largeStores.ipynb\" target=\"_parent\"><img src=\"https://colab.research.google.com/assets/colab-badge.svg\" alt=\"Open In Colab\"/></a>"
      ]
    },
    {
      "metadata": {
        "id": "_HJX5ZbwECXf",
        "colab_type": "code",
        "colab": {}
      },
      "cell_type": "code",
      "source": [
        "import warnings\n",
        "warnings.filterwarnings(\"ignore\")\n"
      ],
      "execution_count": 0,
      "outputs": []
    },
    {
      "metadata": {
        "id": "e6gMxSbEtx3p",
        "colab_type": "code",
        "colab": {}
      },
      "cell_type": "code",
      "source": [
        "import numpy as np\n",
        "import sklearn\n",
        "import pandas as pd\n",
        "import seaborn as sns\n",
        "import matplotlib.pyplot as plt\n",
        "%matplotlib inline\n",
        "plt.style.use('ggplot')"
      ],
      "execution_count": 0,
      "outputs": []
    },
    {
      "metadata": {
        "id": "QYlW7RSMzMt8",
        "colab_type": "code",
        "outputId": "2ac59f0c-d3b4-4236-af17-ce0e82e7e810",
        "colab": {
          "resources": {
            "http://localhost:8080/nbextensions/google.colab/files.js": {
              "data": "Ly8gQ29weXJpZ2h0IDIwMTcgR29vZ2xlIExMQwovLwovLyBMaWNlbnNlZCB1bmRlciB0aGUgQXBhY2hlIExpY2Vuc2UsIFZlcnNpb24gMi4wICh0aGUgIkxpY2Vuc2UiKTsKLy8geW91IG1heSBub3QgdXNlIHRoaXMgZmlsZSBleGNlcHQgaW4gY29tcGxpYW5jZSB3aXRoIHRoZSBMaWNlbnNlLgovLyBZb3UgbWF5IG9idGFpbiBhIGNvcHkgb2YgdGhlIExpY2Vuc2UgYXQKLy8KLy8gICAgICBodHRwOi8vd3d3LmFwYWNoZS5vcmcvbGljZW5zZXMvTElDRU5TRS0yLjAKLy8KLy8gVW5sZXNzIHJlcXVpcmVkIGJ5IGFwcGxpY2FibGUgbGF3IG9yIGFncmVlZCB0byBpbiB3cml0aW5nLCBzb2Z0d2FyZQovLyBkaXN0cmlidXRlZCB1bmRlciB0aGUgTGljZW5zZSBpcyBkaXN0cmlidXRlZCBvbiBhbiAiQVMgSVMiIEJBU0lTLAovLyBXSVRIT1VUIFdBUlJBTlRJRVMgT1IgQ09ORElUSU9OUyBPRiBBTlkgS0lORCwgZWl0aGVyIGV4cHJlc3Mgb3IgaW1wbGllZC4KLy8gU2VlIHRoZSBMaWNlbnNlIGZvciB0aGUgc3BlY2lmaWMgbGFuZ3VhZ2UgZ292ZXJuaW5nIHBlcm1pc3Npb25zIGFuZAovLyBsaW1pdGF0aW9ucyB1bmRlciB0aGUgTGljZW5zZS4KCi8qKgogKiBAZmlsZW92ZXJ2aWV3IEhlbHBlcnMgZm9yIGdvb2dsZS5jb2xhYiBQeXRob24gbW9kdWxlLgogKi8KKGZ1bmN0aW9uKHNjb3BlKSB7CmZ1bmN0aW9uIHNwYW4odGV4dCwgc3R5bGVBdHRyaWJ1dGVzID0ge30pIHsKICBjb25zdCBlbGVtZW50ID0gZG9jdW1lbnQuY3JlYXRlRWxlbWVudCgnc3BhbicpOwogIGVsZW1lbnQudGV4dENvbnRlbnQgPSB0ZXh0OwogIGZvciAoY29uc3Qga2V5IG9mIE9iamVjdC5rZXlzKHN0eWxlQXR0cmlidXRlcykpIHsKICAgIGVsZW1lbnQuc3R5bGVba2V5XSA9IHN0eWxlQXR0cmlidXRlc1trZXldOwogIH0KICByZXR1cm4gZWxlbWVudDsKfQoKLy8gTWF4IG51bWJlciBvZiBieXRlcyB3aGljaCB3aWxsIGJlIHVwbG9hZGVkIGF0IGEgdGltZS4KY29uc3QgTUFYX1BBWUxPQURfU0laRSA9IDEwMCAqIDEwMjQ7Ci8vIE1heCBhbW91bnQgb2YgdGltZSB0byBibG9jayB3YWl0aW5nIGZvciB0aGUgdXNlci4KY29uc3QgRklMRV9DSEFOR0VfVElNRU9VVF9NUyA9IDMwICogMTAwMDsKCmZ1bmN0aW9uIF91cGxvYWRGaWxlcyhpbnB1dElkLCBvdXRwdXRJZCkgewogIGNvbnN0IHN0ZXBzID0gdXBsb2FkRmlsZXNTdGVwKGlucHV0SWQsIG91dHB1dElkKTsKICBjb25zdCBvdXRwdXRFbGVtZW50ID0gZG9jdW1lbnQuZ2V0RWxlbWVudEJ5SWQob3V0cHV0SWQpOwogIC8vIENhY2hlIHN0ZXBzIG9uIHRoZSBvdXRwdXRFbGVtZW50IHRvIG1ha2UgaXQgYXZhaWxhYmxlIGZvciB0aGUgbmV4dCBjYWxsCiAgLy8gdG8gdXBsb2FkRmlsZXNDb250aW51ZSBmcm9tIFB5dGhvbi4KICBvdXRwdXRFbGVtZW50LnN0ZXBzID0gc3RlcHM7CgogIHJldHVybiBfdXBsb2FkRmlsZXNDb250aW51ZShvdXRwdXRJZCk7Cn0KCi8vIFRoaXMgaXMgcm91Z2hseSBhbiBhc3luYyBnZW5lcmF0b3IgKG5vdCBzdXBwb3J0ZWQgaW4gdGhlIGJyb3dzZXIgeWV0KSwKLy8gd2hlcmUgdGhlcmUgYXJlIG11bHRpcGxlIGFzeW5jaHJvbm91cyBzdGVwcyBhbmQgdGhlIFB5dGhvbiBzaWRlIGlzIGdvaW5nCi8vIHRvIHBvbGwgZm9yIGNvbXBsZXRpb24gb2YgZWFjaCBzdGVwLgovLyBUaGlzIHVzZXMgYSBQcm9taXNlIHRvIGJsb2NrIHRoZSBweXRob24gc2lkZSBvbiBjb21wbGV0aW9uIG9mIGVhY2ggc3RlcCwKLy8gdGhlbiBwYXNzZXMgdGhlIHJlc3VsdCBvZiB0aGUgcHJldmlvdXMgc3RlcCBhcyB0aGUgaW5wdXQgdG8gdGhlIG5leHQgc3RlcC4KZnVuY3Rpb24gX3VwbG9hZEZpbGVzQ29udGludWUob3V0cHV0SWQpIHsKICBjb25zdCBvdXRwdXRFbGVtZW50ID0gZG9jdW1lbnQuZ2V0RWxlbWVudEJ5SWQob3V0cHV0SWQpOwogIGNvbnN0IHN0ZXBzID0gb3V0cHV0RWxlbWVudC5zdGVwczsKCiAgY29uc3QgbmV4dCA9IHN0ZXBzLm5leHQob3V0cHV0RWxlbWVudC5sYXN0UHJvbWlzZVZhbHVlKTsKICByZXR1cm4gUHJvbWlzZS5yZXNvbHZlKG5leHQudmFsdWUucHJvbWlzZSkudGhlbigodmFsdWUpID0+IHsKICAgIC8vIENhY2hlIHRoZSBsYXN0IHByb21pc2UgdmFsdWUgdG8gbWFrZSBpdCBhdmFpbGFibGUgdG8gdGhlIG5leHQKICAgIC8vIHN0ZXAgb2YgdGhlIGdlbmVyYXRvci4KICAgIG91dHB1dEVsZW1lbnQubGFzdFByb21pc2VWYWx1ZSA9IHZhbHVlOwogICAgcmV0dXJuIG5leHQudmFsdWUucmVzcG9uc2U7CiAgfSk7Cn0KCi8qKgogKiBHZW5lcmF0b3IgZnVuY3Rpb24gd2hpY2ggaXMgY2FsbGVkIGJldHdlZW4gZWFjaCBhc3luYyBzdGVwIG9mIHRoZSB1cGxvYWQKICogcHJvY2Vzcy4KICogQHBhcmFtIHtzdHJpbmd9IGlucHV0SWQgRWxlbWVudCBJRCBvZiB0aGUgaW5wdXQgZmlsZSBwaWNrZXIgZWxlbWVudC4KICogQHBhcmFtIHtzdHJpbmd9IG91dHB1dElkIEVsZW1lbnQgSUQgb2YgdGhlIG91dHB1dCBkaXNwbGF5LgogKiBAcmV0dXJuIHshSXRlcmFibGU8IU9iamVjdD59IEl0ZXJhYmxlIG9mIG5leHQgc3RlcHMuCiAqLwpmdW5jdGlvbiogdXBsb2FkRmlsZXNTdGVwKGlucHV0SWQsIG91dHB1dElkKSB7CiAgY29uc3QgaW5wdXRFbGVtZW50ID0gZG9jdW1lbnQuZ2V0RWxlbWVudEJ5SWQoaW5wdXRJZCk7CiAgaW5wdXRFbGVtZW50LmRpc2FibGVkID0gZmFsc2U7CgogIGNvbnN0IG91dHB1dEVsZW1lbnQgPSBkb2N1bWVudC5nZXRFbGVtZW50QnlJZChvdXRwdXRJZCk7CiAgb3V0cHV0RWxlbWVudC5pbm5lckhUTUwgPSAnJzsKCiAgY29uc3QgcGlja2VkUHJvbWlzZSA9IG5ldyBQcm9taXNlKChyZXNvbHZlKSA9PiB7CiAgICBpbnB1dEVsZW1lbnQuYWRkRXZlbnRMaXN0ZW5lcignY2hhbmdlJywgKGUpID0+IHsKICAgICAgcmVzb2x2ZShlLnRhcmdldC5maWxlcyk7CiAgICB9KTsKICB9KTsKCiAgY29uc3QgY2FuY2VsID0gZG9jdW1lbnQuY3JlYXRlRWxlbWVudCgnYnV0dG9uJyk7CiAgaW5wdXRFbGVtZW50LnBhcmVudEVsZW1lbnQuYXBwZW5kQ2hpbGQoY2FuY2VsKTsKICBjYW5jZWwudGV4dENvbnRlbnQgPSAnQ2FuY2VsIHVwbG9hZCc7CiAgY29uc3QgY2FuY2VsUHJvbWlzZSA9IG5ldyBQcm9taXNlKChyZXNvbHZlKSA9PiB7CiAgICBjYW5jZWwub25jbGljayA9ICgpID0+IHsKICAgICAgcmVzb2x2ZShudWxsKTsKICAgIH07CiAgfSk7CgogIC8vIENhbmNlbCB1cGxvYWQgaWYgdXNlciBoYXNuJ3QgcGlja2VkIGFueXRoaW5nIGluIHRpbWVvdXQuCiAgY29uc3QgdGltZW91dFByb21pc2UgPSBuZXcgUHJvbWlzZSgocmVzb2x2ZSkgPT4gewogICAgc2V0VGltZW91dCgoKSA9PiB7CiAgICAgIHJlc29sdmUobnVsbCk7CiAgICB9LCBGSUxFX0NIQU5HRV9USU1FT1VUX01TKTsKICB9KTsKCiAgLy8gV2FpdCBmb3IgdGhlIHVzZXIgdG8gcGljayB0aGUgZmlsZXMuCiAgY29uc3QgZmlsZXMgPSB5aWVsZCB7CiAgICBwcm9taXNlOiBQcm9taXNlLnJhY2UoW3BpY2tlZFByb21pc2UsIHRpbWVvdXRQcm9taXNlLCBjYW5jZWxQcm9taXNlXSksCiAgICByZXNwb25zZTogewogICAgICBhY3Rpb246ICdzdGFydGluZycsCiAgICB9CiAgfTsKCiAgaWYgKCFmaWxlcykgewogICAgcmV0dXJuIHsKICAgICAgcmVzcG9uc2U6IHsKICAgICAgICBhY3Rpb246ICdjb21wbGV0ZScsCiAgICAgIH0KICAgIH07CiAgfQoKICBjYW5jZWwucmVtb3ZlKCk7CgogIC8vIERpc2FibGUgdGhlIGlucHV0IGVsZW1lbnQgc2luY2UgZnVydGhlciBwaWNrcyBhcmUgbm90IGFsbG93ZWQuCiAgaW5wdXRFbGVtZW50LmRpc2FibGVkID0gdHJ1ZTsKCiAgZm9yIChjb25zdCBmaWxlIG9mIGZpbGVzKSB7CiAgICBjb25zdCBsaSA9IGRvY3VtZW50LmNyZWF0ZUVsZW1lbnQoJ2xpJyk7CiAgICBsaS5hcHBlbmQoc3BhbihmaWxlLm5hbWUsIHtmb250V2VpZ2h0OiAnYm9sZCd9KSk7CiAgICBsaS5hcHBlbmQoc3BhbigKICAgICAgICBgKCR7ZmlsZS50eXBlIHx8ICduL2EnfSkgLSAke2ZpbGUuc2l6ZX0gYnl0ZXMsIGAgKwogICAgICAgIGBsYXN0IG1vZGlmaWVkOiAkewogICAgICAgICAgICBmaWxlLmxhc3RNb2RpZmllZERhdGUgPyBmaWxlLmxhc3RNb2RpZmllZERhdGUudG9Mb2NhbGVEYXRlU3RyaW5nKCkgOgogICAgICAgICAgICAgICAgICAgICAgICAgICAgICAgICAgICAnbi9hJ30gLSBgKSk7CiAgICBjb25zdCBwZXJjZW50ID0gc3BhbignMCUgZG9uZScpOwogICAgbGkuYXBwZW5kQ2hpbGQocGVyY2VudCk7CgogICAgb3V0cHV0RWxlbWVudC5hcHBlbmRDaGlsZChsaSk7CgogICAgY29uc3QgZmlsZURhdGFQcm9taXNlID0gbmV3IFByb21pc2UoKHJlc29sdmUpID0+IHsKICAgICAgY29uc3QgcmVhZGVyID0gbmV3IEZpbGVSZWFkZXIoKTsKICAgICAgcmVhZGVyLm9ubG9hZCA9IChlKSA9PiB7CiAgICAgICAgcmVzb2x2ZShlLnRhcmdldC5yZXN1bHQpOwogICAgICB9OwogICAgICByZWFkZXIucmVhZEFzQXJyYXlCdWZmZXIoZmlsZSk7CiAgICB9KTsKICAgIC8vIFdhaXQgZm9yIHRoZSBkYXRhIHRvIGJlIHJlYWR5LgogICAgbGV0IGZpbGVEYXRhID0geWllbGQgewogICAgICBwcm9taXNlOiBmaWxlRGF0YVByb21pc2UsCiAgICAgIHJlc3BvbnNlOiB7CiAgICAgICAgYWN0aW9uOiAnY29udGludWUnLAogICAgICB9CiAgICB9OwoKICAgIC8vIFVzZSBhIGNodW5rZWQgc2VuZGluZyB0byBhdm9pZCBtZXNzYWdlIHNpemUgbGltaXRzLiBTZWUgYi82MjExNTY2MC4KICAgIGxldCBwb3NpdGlvbiA9IDA7CiAgICB3aGlsZSAocG9zaXRpb24gPCBmaWxlRGF0YS5ieXRlTGVuZ3RoKSB7CiAgICAgIGNvbnN0IGxlbmd0aCA9IE1hdGgubWluKGZpbGVEYXRhLmJ5dGVMZW5ndGggLSBwb3NpdGlvbiwgTUFYX1BBWUxPQURfU0laRSk7CiAgICAgIGNvbnN0IGNodW5rID0gbmV3IFVpbnQ4QXJyYXkoZmlsZURhdGEsIHBvc2l0aW9uLCBsZW5ndGgpOwogICAgICBwb3NpdGlvbiArPSBsZW5ndGg7CgogICAgICBjb25zdCBiYXNlNjQgPSBidG9hKFN0cmluZy5mcm9tQ2hhckNvZGUuYXBwbHkobnVsbCwgY2h1bmspKTsKICAgICAgeWllbGQgewogICAgICAgIHJlc3BvbnNlOiB7CiAgICAgICAgICBhY3Rpb246ICdhcHBlbmQnLAogICAgICAgICAgZmlsZTogZmlsZS5uYW1lLAogICAgICAgICAgZGF0YTogYmFzZTY0LAogICAgICAgIH0sCiAgICAgIH07CiAgICAgIHBlcmNlbnQudGV4dENvbnRlbnQgPQogICAgICAgICAgYCR7TWF0aC5yb3VuZCgocG9zaXRpb24gLyBmaWxlRGF0YS5ieXRlTGVuZ3RoKSAqIDEwMCl9JSBkb25lYDsKICAgIH0KICB9CgogIC8vIEFsbCBkb25lLgogIHlpZWxkIHsKICAgIHJlc3BvbnNlOiB7CiAgICAgIGFjdGlvbjogJ2NvbXBsZXRlJywKICAgIH0KICB9Owp9CgpzY29wZS5nb29nbGUgPSBzY29wZS5nb29nbGUgfHwge307CnNjb3BlLmdvb2dsZS5jb2xhYiA9IHNjb3BlLmdvb2dsZS5jb2xhYiB8fCB7fTsKc2NvcGUuZ29vZ2xlLmNvbGFiLl9maWxlcyA9IHsKICBfdXBsb2FkRmlsZXMsCiAgX3VwbG9hZEZpbGVzQ29udGludWUsCn07Cn0pKHNlbGYpOwo=",
              "ok": true,
              "headers": [
                [
                  "content-type",
                  "application/javascript"
                ]
              ],
              "status": 200,
              "status_text": "OK"
            }
          },
          "base_uri": "https://localhost:8080/",
          "height": 75
        }
      },
      "cell_type": "code",
      "source": [
        "from google.colab import files\n",
        "uploaded = files.upload()"
      ],
      "execution_count": 2,
      "outputs": [
        {
          "output_type": "display_data",
          "data": {
            "text/html": [
              "\n",
              "     <input type=\"file\" id=\"files-f41dafaf-c2f3-4d0b-9d6a-941be0beab76\" name=\"files[]\" multiple disabled />\n",
              "     <output id=\"result-f41dafaf-c2f3-4d0b-9d6a-941be0beab76\">\n",
              "      Upload widget is only available when the cell has been executed in the\n",
              "      current browser session. Please rerun this cell to enable.\n",
              "      </output>\n",
              "      <script src=\"/nbextensions/google.colab/files.js\"></script> "
            ],
            "text/plain": [
              "<IPython.core.display.HTML object>"
            ]
          },
          "metadata": {
            "tags": []
          }
        },
        {
          "output_type": "stream",
          "text": [
            "Saving Book1.csv to Book1.csv\n"
          ],
          "name": "stdout"
        }
      ]
    },
    {
      "metadata": {
        "id": "RQaYl9EeFPvF",
        "colab_type": "text"
      },
      "cell_type": "markdown",
      "source": [
        "reading the data"
      ]
    },
    {
      "metadata": {
        "id": "DWPKg-qBEwEV",
        "colab_type": "code",
        "colab": {}
      },
      "cell_type": "code",
      "source": [
        "df = pd.read_csv('Book1.csv', encoding = 'utf8', index_col = 'SID')"
      ],
      "execution_count": 0,
      "outputs": []
    },
    {
      "metadata": {
        "id": "2TGlkK4IFRzJ",
        "colab_type": "text"
      },
      "cell_type": "markdown",
      "source": [
        "checking for null values"
      ]
    },
    {
      "metadata": {
        "id": "IDFOUIjUFT4_",
        "colab_type": "code",
        "colab": {}
      },
      "cell_type": "code",
      "source": [
        "df.isnull().sum()"
      ],
      "execution_count": 0,
      "outputs": []
    },
    {
      "metadata": {
        "id": "4R27RA-2FWTw",
        "colab_type": "code",
        "colab": {}
      },
      "cell_type": "code",
      "source": [
        "list(df)"
      ],
      "execution_count": 0,
      "outputs": []
    },
    {
      "metadata": {
        "id": "as4FFTp-zcNb",
        "colab_type": "code",
        "colab": {}
      },
      "cell_type": "code",
      "source": [
        "df['SQFT'] = df['SQFT'].str.replace(\",\",\"\")"
      ],
      "execution_count": 0,
      "outputs": []
    },
    {
      "metadata": {
        "id": "dDOL88k1650D",
        "colab_type": "code",
        "colab": {}
      },
      "cell_type": "code",
      "source": [
        "df.SQFT"
      ],
      "execution_count": 0,
      "outputs": []
    },
    {
      "metadata": {
        "id": "ZS2ZY6ijziNg",
        "colab_type": "code",
        "colab": {}
      },
      "cell_type": "code",
      "source": [
        "df['SALES_2018'] = df['SALES_2018'].str.replace(\",\",\"\")\n",
        "df['SALES_2018'] = df['SALES_2018'].str.replace(\"$\",\"\")"
      ],
      "execution_count": 0,
      "outputs": []
    },
    {
      "metadata": {
        "id": "JD6w8Q6U69S4",
        "colab_type": "code",
        "colab": {}
      },
      "cell_type": "code",
      "source": [
        "df.SALES_2018"
      ],
      "execution_count": 0,
      "outputs": []
    },
    {
      "metadata": {
        "id": "jlPMYUQbzrbd",
        "colab_type": "code",
        "outputId": "bf4d2005-df15-40df-d217-2f7c01a7b883",
        "colab": {
          "base_uri": "https://localhost:8080/",
          "height": 35
        }
      },
      "cell_type": "code",
      "source": [
        "df.shape"
      ],
      "execution_count": 96,
      "outputs": [
        {
          "output_type": "execute_result",
          "data": {
            "text/plain": [
              "(47, 442)"
            ]
          },
          "metadata": {
            "tags": []
          },
          "execution_count": 96
        }
      ]
    },
    {
      "metadata": {
        "id": "DNdbeiIlzxX_",
        "colab_type": "code",
        "colab": {
          "base_uri": "https://localhost:8080/",
          "height": 181
        },
        "outputId": "3004d920-b0ba-4dcb-a76d-3d69ea74cb81"
      },
      "cell_type": "code",
      "source": [
        "#stats of the predictor variable (saleprice)\n",
        "df.SALES_2018.describe().round(2)"
      ],
      "execution_count": 97,
      "outputs": [
        {
          "output_type": "execute_result",
          "data": {
            "text/plain": [
              "count          47.00\n",
              "mean      7819204.36\n",
              "std       1721631.19\n",
              "min       5590958.61\n",
              "25%       6548282.40\n",
              "50%       7534766.44\n",
              "75%       8563711.40\n",
              "max      13304391.49\n",
              "Name: SALES_2018, dtype: float64"
            ]
          },
          "metadata": {
            "tags": []
          },
          "execution_count": 97
        }
      ]
    },
    {
      "metadata": {
        "id": "c5Vtk-tlBZr8",
        "colab_type": "code",
        "colab": {
          "base_uri": "https://localhost:8080/",
          "height": 287
        },
        "outputId": "b1eafcff-bdd4-4af6-9d7f-419e19d3928f"
      },
      "cell_type": "code",
      "source": [
        "#overview ofthe data\n",
        "df.head()"
      ],
      "execution_count": 98,
      "outputs": [
        {
          "output_type": "execute_result",
          "data": {
            "text/html": [
              "<div>\n",
              "<style scoped>\n",
              "    .dataframe tbody tr th:only-of-type {\n",
              "        vertical-align: middle;\n",
              "    }\n",
              "\n",
              "    .dataframe tbody tr th {\n",
              "        vertical-align: top;\n",
              "    }\n",
              "\n",
              "    .dataframe thead th {\n",
              "        text-align: right;\n",
              "    }\n",
              "</style>\n",
              "<table border=\"1\" class=\"dataframe\">\n",
              "  <thead>\n",
              "    <tr style=\"text-align: right;\">\n",
              "      <th></th>\n",
              "      <th>SQFT</th>\n",
              "      <th>SALES_2018</th>\n",
              "      <th>AGE_ADULT18P_8TO</th>\n",
              "      <th>AGE_ADULT18P_16TO</th>\n",
              "      <th>AGE_BABYBOOM5069_8TO</th>\n",
              "      <th>AGE_BABYBOOM5069_16TO</th>\n",
              "      <th>AGE_COLLG1821_8TO</th>\n",
              "      <th>AGE_COLLG1821_16TO</th>\n",
              "      <th>AGE_DRINKADULT21P_8TO</th>\n",
              "      <th>AGE_DRINKADULT21P_16TO</th>\n",
              "      <th>...</th>\n",
              "      <th>XRACE_WHTHH_1RO</th>\n",
              "      <th>XRACE_WHTHH_8TO</th>\n",
              "      <th>XRACE_WHTHH_16TO</th>\n",
              "      <th>XRACE_WHTPOP_1RO</th>\n",
              "      <th>XRACE_WHTPOP_8TO</th>\n",
              "      <th>XRACE_WHTPOP_16TO</th>\n",
              "      <th>CUSTOMER_VALUE</th>\n",
              "      <th>CUSTOMER_VALUE_QUAL</th>\n",
              "      <th>CUSTOMER_VALUE_W</th>\n",
              "      <th>CUSTOMER_VALUE_W_QUAL</th>\n",
              "    </tr>\n",
              "    <tr>\n",
              "      <th>SID</th>\n",
              "      <th></th>\n",
              "      <th></th>\n",
              "      <th></th>\n",
              "      <th></th>\n",
              "      <th></th>\n",
              "      <th></th>\n",
              "      <th></th>\n",
              "      <th></th>\n",
              "      <th></th>\n",
              "      <th></th>\n",
              "      <th></th>\n",
              "      <th></th>\n",
              "      <th></th>\n",
              "      <th></th>\n",
              "      <th></th>\n",
              "      <th></th>\n",
              "      <th></th>\n",
              "      <th></th>\n",
              "      <th></th>\n",
              "      <th></th>\n",
              "      <th></th>\n",
              "    </tr>\n",
              "  </thead>\n",
              "  <tbody>\n",
              "    <tr>\n",
              "      <th>21266496</th>\n",
              "      <td>52860.90</td>\n",
              "      <td>6585541.547</td>\n",
              "      <td>22452</td>\n",
              "      <td>62057</td>\n",
              "      <td>7866</td>\n",
              "      <td>21397</td>\n",
              "      <td>1163</td>\n",
              "      <td>5387</td>\n",
              "      <td>21627</td>\n",
              "      <td>58191</td>\n",
              "      <td>...</td>\n",
              "      <td>94.95</td>\n",
              "      <td>91.82</td>\n",
              "      <td>94.09</td>\n",
              "      <td>94.28</td>\n",
              "      <td>89.81</td>\n",
              "      <td>92.62</td>\n",
              "      <td>5213824.657</td>\n",
              "      <td>800.612281</td>\n",
              "      <td>2599706.687</td>\n",
              "      <td>503.137811</td>\n",
              "    </tr>\n",
              "    <tr>\n",
              "      <th>21266497</th>\n",
              "      <td>50398.75</td>\n",
              "      <td>7580096.470</td>\n",
              "      <td>23272</td>\n",
              "      <td>51235</td>\n",
              "      <td>7276</td>\n",
              "      <td>15811</td>\n",
              "      <td>1482</td>\n",
              "      <td>5381</td>\n",
              "      <td>22265</td>\n",
              "      <td>47310</td>\n",
              "      <td>...</td>\n",
              "      <td>96.78</td>\n",
              "      <td>93.90</td>\n",
              "      <td>94.78</td>\n",
              "      <td>95.75</td>\n",
              "      <td>84.17</td>\n",
              "      <td>88.18</td>\n",
              "      <td>4235039.571</td>\n",
              "      <td>812.681598</td>\n",
              "      <td>5430226.190</td>\n",
              "      <td>537.169742</td>\n",
              "    </tr>\n",
              "    <tr>\n",
              "      <th>21266498</th>\n",
              "      <td>45520.45</td>\n",
              "      <td>7538989.577</td>\n",
              "      <td>16522</td>\n",
              "      <td>39299</td>\n",
              "      <td>5693</td>\n",
              "      <td>13571</td>\n",
              "      <td>845</td>\n",
              "      <td>2070</td>\n",
              "      <td>15885</td>\n",
              "      <td>37760</td>\n",
              "      <td>...</td>\n",
              "      <td>96.04</td>\n",
              "      <td>95.03</td>\n",
              "      <td>95.91</td>\n",
              "      <td>94.65</td>\n",
              "      <td>93.82</td>\n",
              "      <td>95.01</td>\n",
              "      <td>3047761.341</td>\n",
              "      <td>682.624844</td>\n",
              "      <td>3323540.336</td>\n",
              "      <td>450.886607</td>\n",
              "    </tr>\n",
              "    <tr>\n",
              "      <th>21266499</th>\n",
              "      <td>53871.75</td>\n",
              "      <td>6917103.109</td>\n",
              "      <td>8465</td>\n",
              "      <td>57556</td>\n",
              "      <td>3237</td>\n",
              "      <td>20061</td>\n",
              "      <td>413</td>\n",
              "      <td>3647</td>\n",
              "      <td>8163</td>\n",
              "      <td>54912</td>\n",
              "      <td>...</td>\n",
              "      <td>95.62</td>\n",
              "      <td>95.13</td>\n",
              "      <td>94.61</td>\n",
              "      <td>94.63</td>\n",
              "      <td>93.82</td>\n",
              "      <td>91.26</td>\n",
              "      <td>3540146.551</td>\n",
              "      <td>713.330105</td>\n",
              "      <td>4296301.151</td>\n",
              "      <td>493.884005</td>\n",
              "    </tr>\n",
              "    <tr>\n",
              "      <th>21266500</th>\n",
              "      <td>62109.20</td>\n",
              "      <td>8395815.468</td>\n",
              "      <td>25324</td>\n",
              "      <td>139069</td>\n",
              "      <td>8964</td>\n",
              "      <td>48638</td>\n",
              "      <td>1193</td>\n",
              "      <td>6816</td>\n",
              "      <td>24437</td>\n",
              "      <td>134014</td>\n",
              "      <td>...</td>\n",
              "      <td>96.42</td>\n",
              "      <td>91.56</td>\n",
              "      <td>87.68</td>\n",
              "      <td>95.78</td>\n",
              "      <td>89.82</td>\n",
              "      <td>85.27</td>\n",
              "      <td>8887719.173</td>\n",
              "      <td>700.441060</td>\n",
              "      <td>5641977.409</td>\n",
              "      <td>480.374930</td>\n",
              "    </tr>\n",
              "  </tbody>\n",
              "</table>\n",
              "<p>5 rows × 442 columns</p>\n",
              "</div>"
            ],
            "text/plain": [
              "              SQFT   SALES_2018  AGE_ADULT18P_8TO  AGE_ADULT18P_16TO  \\\n",
              "SID                                                                    \n",
              "21266496  52860.90  6585541.547             22452              62057   \n",
              "21266497  50398.75  7580096.470             23272              51235   \n",
              "21266498  45520.45  7538989.577             16522              39299   \n",
              "21266499  53871.75  6917103.109              8465              57556   \n",
              "21266500  62109.20  8395815.468             25324             139069   \n",
              "\n",
              "          AGE_BABYBOOM5069_8TO  AGE_BABYBOOM5069_16TO  AGE_COLLG1821_8TO  \\\n",
              "SID                                                                        \n",
              "21266496                  7866                  21397               1163   \n",
              "21266497                  7276                  15811               1482   \n",
              "21266498                  5693                  13571                845   \n",
              "21266499                  3237                  20061                413   \n",
              "21266500                  8964                  48638               1193   \n",
              "\n",
              "          AGE_COLLG1821_16TO  AGE_DRINKADULT21P_8TO  AGE_DRINKADULT21P_16TO  \\\n",
              "SID                                                                           \n",
              "21266496                5387                  21627                   58191   \n",
              "21266497                5381                  22265                   47310   \n",
              "21266498                2070                  15885                   37760   \n",
              "21266499                3647                   8163                   54912   \n",
              "21266500                6816                  24437                  134014   \n",
              "\n",
              "                  ...            XRACE_WHTHH_1RO  XRACE_WHTHH_8TO  \\\n",
              "SID               ...                                               \n",
              "21266496          ...                      94.95            91.82   \n",
              "21266497          ...                      96.78            93.90   \n",
              "21266498          ...                      96.04            95.03   \n",
              "21266499          ...                      95.62            95.13   \n",
              "21266500          ...                      96.42            91.56   \n",
              "\n",
              "          XRACE_WHTHH_16TO  XRACE_WHTPOP_1RO  XRACE_WHTPOP_8TO  \\\n",
              "SID                                                              \n",
              "21266496             94.09             94.28             89.81   \n",
              "21266497             94.78             95.75             84.17   \n",
              "21266498             95.91             94.65             93.82   \n",
              "21266499             94.61             94.63             93.82   \n",
              "21266500             87.68             95.78             89.82   \n",
              "\n",
              "          XRACE_WHTPOP_16TO  CUSTOMER_VALUE  CUSTOMER_VALUE_QUAL  \\\n",
              "SID                                                                \n",
              "21266496              92.62     5213824.657           800.612281   \n",
              "21266497              88.18     4235039.571           812.681598   \n",
              "21266498              95.01     3047761.341           682.624844   \n",
              "21266499              91.26     3540146.551           713.330105   \n",
              "21266500              85.27     8887719.173           700.441060   \n",
              "\n",
              "          CUSTOMER_VALUE_W  CUSTOMER_VALUE_W_QUAL  \n",
              "SID                                                \n",
              "21266496       2599706.687             503.137811  \n",
              "21266497       5430226.190             537.169742  \n",
              "21266498       3323540.336             450.886607  \n",
              "21266499       4296301.151             493.884005  \n",
              "21266500       5641977.409             480.374930  \n",
              "\n",
              "[5 rows x 442 columns]"
            ]
          },
          "metadata": {
            "tags": []
          },
          "execution_count": 98
        }
      ]
    },
    {
      "metadata": {
        "id": "eArGH-6qFdL7",
        "colab_type": "code",
        "colab": {
          "base_uri": "https://localhost:8080/",
          "height": 299
        },
        "outputId": "30c9b35e-b5d4-4020-eefd-921c706f9a1f"
      },
      "cell_type": "code",
      "source": [
        "sns.countplot(y='UNIV_COUNT_8TO', data=df)"
      ],
      "execution_count": 88,
      "outputs": [
        {
          "output_type": "execute_result",
          "data": {
            "text/plain": [
              "<matplotlib.axes._subplots.AxesSubplot at 0x7fdfc09777f0>"
            ]
          },
          "metadata": {
            "tags": []
          },
          "execution_count": 88
        },
        {
          "output_type": "display_data",
          "data": {
            "image/png": "[encoded data removed]",
            "text/plain": [
              "<Figure size 432x288 with 1 Axes>"
            ]
          },
          "metadata": {
            "tags": []
          }
        }
      ]
    },
    {
      "metadata": {
        "id": "CjvMVSlNGOab",
        "colab_type": "code",
        "colab": {}
      },
      "cell_type": "code",
      "source": [
        "sns.countplot(y='UNIV_COUNT_16TO', data=df)"
      ],
      "execution_count": 0,
      "outputs": []
    },
    {
      "metadata": {
        "id": "hROw2rxTFuoU",
        "colab_type": "code",
        "colab": {}
      },
      "cell_type": "code",
      "source": [
        "sns.countplot(x='SCHOOL_HI_SCHLS_0_5RO', data=df)"
      ],
      "execution_count": 0,
      "outputs": []
    },
    {
      "metadata": {
        "id": "5a5DKx0vIDrd",
        "colab_type": "code",
        "colab": {
          "base_uri": "https://localhost:8080/",
          "height": 349
        },
        "outputId": "b87a2a03-637a-407b-f171-6643c5b5a631"
      },
      "cell_type": "code",
      "source": [
        "df.describe()"
      ],
      "execution_count": 101,
      "outputs": [
        {
          "output_type": "execute_result",
          "data": {
            "text/html": [
              "<div>\n",
              "<style scoped>\n",
              "    .dataframe tbody tr th:only-of-type {\n",
              "        vertical-align: middle;\n",
              "    }\n",
              "\n",
              "    .dataframe tbody tr th {\n",
              "        vertical-align: top;\n",
              "    }\n",
              "\n",
              "    .dataframe thead th {\n",
              "        text-align: right;\n",
              "    }\n",
              "</style>\n",
              "<table border=\"1\" class=\"dataframe\">\n",
              "  <thead>\n",
              "    <tr style=\"text-align: right;\">\n",
              "      <th></th>\n",
              "      <th>SQFT</th>\n",
              "      <th>SALES_2018</th>\n",
              "      <th>AGE_ADULT18P_8TO</th>\n",
              "      <th>AGE_ADULT18P_16TO</th>\n",
              "      <th>AGE_BABYBOOM5069_8TO</th>\n",
              "      <th>AGE_BABYBOOM5069_16TO</th>\n",
              "      <th>AGE_COLLG1821_8TO</th>\n",
              "      <th>AGE_COLLG1821_16TO</th>\n",
              "      <th>AGE_DRINKADULT21P_8TO</th>\n",
              "      <th>AGE_DRINKADULT21P_16TO</th>\n",
              "      <th>...</th>\n",
              "      <th>XRACE_WHTHH_1RO</th>\n",
              "      <th>XRACE_WHTHH_8TO</th>\n",
              "      <th>XRACE_WHTHH_16TO</th>\n",
              "      <th>XRACE_WHTPOP_1RO</th>\n",
              "      <th>XRACE_WHTPOP_8TO</th>\n",
              "      <th>XRACE_WHTPOP_16TO</th>\n",
              "      <th>CUSTOMER_VALUE</th>\n",
              "      <th>CUSTOMER_VALUE_QUAL</th>\n",
              "      <th>CUSTOMER_VALUE_W</th>\n",
              "      <th>CUSTOMER_VALUE_W_QUAL</th>\n",
              "    </tr>\n",
              "  </thead>\n",
              "  <tbody>\n",
              "    <tr>\n",
              "      <th>count</th>\n",
              "      <td>47.000000</td>\n",
              "      <td>4.700000e+01</td>\n",
              "      <td>47.000000</td>\n",
              "      <td>47.000000</td>\n",
              "      <td>47.000000</td>\n",
              "      <td>47.000000</td>\n",
              "      <td>47.000000</td>\n",
              "      <td>47.000000</td>\n",
              "      <td>47.000000</td>\n",
              "      <td>47.000000</td>\n",
              "      <td>...</td>\n",
              "      <td>47.000000</td>\n",
              "      <td>47.000000</td>\n",
              "      <td>47.000000</td>\n",
              "      <td>47.000000</td>\n",
              "      <td>47.000000</td>\n",
              "      <td>47.000000</td>\n",
              "      <td>4.700000e+01</td>\n",
              "      <td>47.000000</td>\n",
              "      <td>4.700000e+01</td>\n",
              "      <td>47.000000</td>\n",
              "    </tr>\n",
              "    <tr>\n",
              "      <th>mean</th>\n",
              "      <td>56364.168723</td>\n",
              "      <td>7.819204e+06</td>\n",
              "      <td>30470.382979</td>\n",
              "      <td>126653.000000</td>\n",
              "      <td>9392.276596</td>\n",
              "      <td>40347.468085</td>\n",
              "      <td>2381.255319</td>\n",
              "      <td>9521.574468</td>\n",
              "      <td>28715.361702</td>\n",
              "      <td>119618.212766</td>\n",
              "      <td>...</td>\n",
              "      <td>85.433830</td>\n",
              "      <td>83.642553</td>\n",
              "      <td>82.259362</td>\n",
              "      <td>82.736383</td>\n",
              "      <td>80.628511</td>\n",
              "      <td>79.215106</td>\n",
              "      <td>7.491483e+06</td>\n",
              "      <td>630.832482</td>\n",
              "      <td>7.813276e+06</td>\n",
              "      <td>464.623886</td>\n",
              "    </tr>\n",
              "    <tr>\n",
              "      <th>std</th>\n",
              "      <td>8237.829137</td>\n",
              "      <td>1.721631e+06</td>\n",
              "      <td>9855.812027</td>\n",
              "      <td>57200.975763</td>\n",
              "      <td>3256.683213</td>\n",
              "      <td>17825.089366</td>\n",
              "      <td>2055.781386</td>\n",
              "      <td>4975.201817</td>\n",
              "      <td>9359.507801</td>\n",
              "      <td>54212.589409</td>\n",
              "      <td>...</td>\n",
              "      <td>13.098405</td>\n",
              "      <td>12.767285</td>\n",
              "      <td>12.491992</td>\n",
              "      <td>14.021185</td>\n",
              "      <td>13.287011</td>\n",
              "      <td>12.981830</td>\n",
              "      <td>2.738795e+06</td>\n",
              "      <td>72.251464</td>\n",
              "      <td>4.324669e+06</td>\n",
              "      <td>30.050067</td>\n",
              "    </tr>\n",
              "    <tr>\n",
              "      <th>min</th>\n",
              "      <td>45520.450000</td>\n",
              "      <td>5.590959e+06</td>\n",
              "      <td>8465.000000</td>\n",
              "      <td>39299.000000</td>\n",
              "      <td>3237.000000</td>\n",
              "      <td>13481.000000</td>\n",
              "      <td>413.000000</td>\n",
              "      <td>2070.000000</td>\n",
              "      <td>8163.000000</td>\n",
              "      <td>37760.000000</td>\n",
              "      <td>...</td>\n",
              "      <td>39.470000</td>\n",
              "      <td>36.650000</td>\n",
              "      <td>41.370000</td>\n",
              "      <td>35.200000</td>\n",
              "      <td>34.980000</td>\n",
              "      <td>37.510000</td>\n",
              "      <td>3.047761e+06</td>\n",
              "      <td>502.732183</td>\n",
              "      <td>2.599707e+06</td>\n",
              "      <td>401.038120</td>\n",
              "    </tr>\n",
              "    <tr>\n",
              "      <th>25%</th>\n",
              "      <td>50039.375000</td>\n",
              "      <td>6.548282e+06</td>\n",
              "      <td>23967.500000</td>\n",
              "      <td>73208.500000</td>\n",
              "      <td>7328.500000</td>\n",
              "      <td>24347.000000</td>\n",
              "      <td>1243.500000</td>\n",
              "      <td>5965.000000</td>\n",
              "      <td>22543.500000</td>\n",
              "      <td>69648.000000</td>\n",
              "      <td>...</td>\n",
              "      <td>81.635000</td>\n",
              "      <td>78.695000</td>\n",
              "      <td>74.490000</td>\n",
              "      <td>78.245000</td>\n",
              "      <td>75.085000</td>\n",
              "      <td>70.080000</td>\n",
              "      <td>5.254681e+06</td>\n",
              "      <td>589.430138</td>\n",
              "      <td>5.200005e+06</td>\n",
              "      <td>444.080844</td>\n",
              "    </tr>\n",
              "    <tr>\n",
              "      <th>50%</th>\n",
              "      <td>53951.100000</td>\n",
              "      <td>7.534766e+06</td>\n",
              "      <td>30146.000000</td>\n",
              "      <td>126188.000000</td>\n",
              "      <td>9026.000000</td>\n",
              "      <td>39681.000000</td>\n",
              "      <td>1780.000000</td>\n",
              "      <td>8668.000000</td>\n",
              "      <td>28849.000000</td>\n",
              "      <td>119358.000000</td>\n",
              "      <td>...</td>\n",
              "      <td>90.080000</td>\n",
              "      <td>87.670000</td>\n",
              "      <td>86.860000</td>\n",
              "      <td>89.300000</td>\n",
              "      <td>84.430000</td>\n",
              "      <td>83.630000</td>\n",
              "      <td>7.498199e+06</td>\n",
              "      <td>629.901989</td>\n",
              "      <td>7.075286e+06</td>\n",
              "      <td>464.137700</td>\n",
              "    </tr>\n",
              "    <tr>\n",
              "      <th>75%</th>\n",
              "      <td>60595.225000</td>\n",
              "      <td>8.563711e+06</td>\n",
              "      <td>37856.000000</td>\n",
              "      <td>162992.500000</td>\n",
              "      <td>10996.500000</td>\n",
              "      <td>51773.500000</td>\n",
              "      <td>2532.000000</td>\n",
              "      <td>11821.500000</td>\n",
              "      <td>35210.000000</td>\n",
              "      <td>152796.000000</td>\n",
              "      <td>...</td>\n",
              "      <td>94.155000</td>\n",
              "      <td>92.970000</td>\n",
              "      <td>91.800000</td>\n",
              "      <td>92.755000</td>\n",
              "      <td>90.500000</td>\n",
              "      <td>89.265000</td>\n",
              "      <td>9.120402e+06</td>\n",
              "      <td>674.243468</td>\n",
              "      <td>8.734435e+06</td>\n",
              "      <td>484.949998</td>\n",
              "    </tr>\n",
              "    <tr>\n",
              "      <th>max</th>\n",
              "      <td>86695.050000</td>\n",
              "      <td>1.330439e+07</td>\n",
              "      <td>50859.000000</td>\n",
              "      <td>273114.000000</td>\n",
              "      <td>15996.000000</td>\n",
              "      <td>93057.000000</td>\n",
              "      <td>12079.000000</td>\n",
              "      <td>24413.000000</td>\n",
              "      <td>48904.000000</td>\n",
              "      <td>260510.000000</td>\n",
              "      <td>...</td>\n",
              "      <td>97.470000</td>\n",
              "      <td>96.820000</td>\n",
              "      <td>96.630000</td>\n",
              "      <td>96.350000</td>\n",
              "      <td>95.340000</td>\n",
              "      <td>95.010000</td>\n",
              "      <td>1.341490e+07</td>\n",
              "      <td>812.681598</td>\n",
              "      <td>2.562182e+07</td>\n",
              "      <td>537.169742</td>\n",
              "    </tr>\n",
              "  </tbody>\n",
              "</table>\n",
              "<p>8 rows × 442 columns</p>\n",
              "</div>"
            ],
            "text/plain": [
              "               SQFT    SALES_2018  AGE_ADULT18P_8TO  AGE_ADULT18P_16TO  \\\n",
              "count     47.000000  4.700000e+01         47.000000          47.000000   \n",
              "mean   56364.168723  7.819204e+06      30470.382979      126653.000000   \n",
              "std     8237.829137  1.721631e+06       9855.812027       57200.975763   \n",
              "min    45520.450000  5.590959e+06       8465.000000       39299.000000   \n",
              "25%    50039.375000  6.548282e+06      23967.500000       73208.500000   \n",
              "50%    53951.100000  7.534766e+06      30146.000000      126188.000000   \n",
              "75%    60595.225000  8.563711e+06      37856.000000      162992.500000   \n",
              "max    86695.050000  1.330439e+07      50859.000000      273114.000000   \n",
              "\n",
              "       AGE_BABYBOOM5069_8TO  AGE_BABYBOOM5069_16TO  AGE_COLLG1821_8TO  \\\n",
              "count             47.000000              47.000000          47.000000   \n",
              "mean            9392.276596           40347.468085        2381.255319   \n",
              "std             3256.683213           17825.089366        2055.781386   \n",
              "min             3237.000000           13481.000000         413.000000   \n",
              "25%             7328.500000           24347.000000        1243.500000   \n",
              "50%             9026.000000           39681.000000        1780.000000   \n",
              "75%            10996.500000           51773.500000        2532.000000   \n",
              "max            15996.000000           93057.000000       12079.000000   \n",
              "\n",
              "       AGE_COLLG1821_16TO  AGE_DRINKADULT21P_8TO  AGE_DRINKADULT21P_16TO  \\\n",
              "count           47.000000              47.000000               47.000000   \n",
              "mean          9521.574468           28715.361702           119618.212766   \n",
              "std           4975.201817            9359.507801            54212.589409   \n",
              "min           2070.000000            8163.000000            37760.000000   \n",
              "25%           5965.000000           22543.500000            69648.000000   \n",
              "50%           8668.000000           28849.000000           119358.000000   \n",
              "75%          11821.500000           35210.000000           152796.000000   \n",
              "max          24413.000000           48904.000000           260510.000000   \n",
              "\n",
              "               ...            XRACE_WHTHH_1RO  XRACE_WHTHH_8TO  \\\n",
              "count          ...                  47.000000        47.000000   \n",
              "mean           ...                  85.433830        83.642553   \n",
              "std            ...                  13.098405        12.767285   \n",
              "min            ...                  39.470000        36.650000   \n",
              "25%            ...                  81.635000        78.695000   \n",
              "50%            ...                  90.080000        87.670000   \n",
              "75%            ...                  94.155000        92.970000   \n",
              "max            ...                  97.470000        96.820000   \n",
              "\n",
              "       XRACE_WHTHH_16TO  XRACE_WHTPOP_1RO  XRACE_WHTPOP_8TO  \\\n",
              "count         47.000000         47.000000         47.000000   \n",
              "mean          82.259362         82.736383         80.628511   \n",
              "std           12.491992         14.021185         13.287011   \n",
              "min           41.370000         35.200000         34.980000   \n",
              "25%           74.490000         78.245000         75.085000   \n",
              "50%           86.860000         89.300000         84.430000   \n",
              "75%           91.800000         92.755000         90.500000   \n",
              "max           96.630000         96.350000         95.340000   \n",
              "\n",
              "       XRACE_WHTPOP_16TO  CUSTOMER_VALUE  CUSTOMER_VALUE_QUAL  \\\n",
              "count          47.000000    4.700000e+01            47.000000   \n",
              "mean           79.215106    7.491483e+06           630.832482   \n",
              "std            12.981830    2.738795e+06            72.251464   \n",
              "min            37.510000    3.047761e+06           502.732183   \n",
              "25%            70.080000    5.254681e+06           589.430138   \n",
              "50%            83.630000    7.498199e+06           629.901989   \n",
              "75%            89.265000    9.120402e+06           674.243468   \n",
              "max            95.010000    1.341490e+07           812.681598   \n",
              "\n",
              "       CUSTOMER_VALUE_W  CUSTOMER_VALUE_W_QUAL  \n",
              "count      4.700000e+01              47.000000  \n",
              "mean       7.813276e+06             464.623886  \n",
              "std        4.324669e+06              30.050067  \n",
              "min        2.599707e+06             401.038120  \n",
              "25%        5.200005e+06             444.080844  \n",
              "50%        7.075286e+06             464.137700  \n",
              "75%        8.734435e+06             484.949998  \n",
              "max        2.562182e+07             537.169742  \n",
              "\n",
              "[8 rows x 442 columns]"
            ]
          },
          "metadata": {
            "tags": []
          },
          "execution_count": 101
        }
      ]
    },
    {
      "metadata": {
        "id": "onTtW5EA-0EQ",
        "colab_type": "code",
        "outputId": "9f606014-955e-4730-8856-d21b962a6121",
        "colab": {
          "base_uri": "https://localhost:8080/",
          "height": 344
        }
      },
      "cell_type": "code",
      "source": [
        "#features with the most correlation with the predictor variable\n",
        "corr = df.corr()\n",
        "print(corr['SALES_2018'].sort_values(ascending = False)[:10], '\\n')\n",
        "print(corr['SALES_2018'].sort_values(ascending = False)[-5:])"
      ],
      "execution_count": 102,
      "outputs": [
        {
          "output_type": "stream",
          "text": [
            "SALES_2018                 1.000000\n",
            "SQFT                       0.599724\n",
            "XEDUC_PRO_16TO             0.318752\n",
            "XLABOR_SRV_16TO            0.246431\n",
            "XEDUC_PRO_8TO              0.238219\n",
            "SCHOOL_MID_STDNTS_0_5RO    0.224693\n",
            "XHVAL_L49K_16TO            0.224262\n",
            "CM_GROCERY_1RO             0.211012\n",
            "HVAL_MED_COLADJ_8TO        0.206517\n",
            "HVAL_MED_COLADJ_16TO       0.202479\n",
            "Name: SALES_2018, dtype: float64 \n",
            "\n",
            "CX02V051_8TO      -0.317043\n",
            "LABOR_BLU_16TO    -0.325680\n",
            "CNT_MALLS_1RO     -0.378144\n",
            "LABOR_BLU_8TO     -0.420733\n",
            "CNT_MALLS_0_5RO   -0.444566\n",
            "Name: SALES_2018, dtype: float64\n"
          ],
          "name": "stdout"
        }
      ]
    },
    {
      "metadata": {
        "id": "8shCkz6SsdRI",
        "colab_type": "code",
        "colab": {}
      },
      "cell_type": "code",
      "source": [
        "corr_with_sales = df.corr()[\"SALES_2018\"].sort_values(ascending=False)\n",
        "plt.figure(figsize=(20,12))\n",
        "corr_with_sales.drop(\"SALES_2018\").plot.bar()\n",
        "plt.show();"
      ],
      "execution_count": 0,
      "outputs": []
    },
    {
      "metadata": {
        "id": "rH9HjA92YuXJ",
        "colab_type": "code",
        "colab": {
          "base_uri": "https://localhost:8080/",
          "height": 736
        },
        "outputId": "9e9f3f73-a3a5-4ee5-a51c-22a0062424b9"
      },
      "cell_type": "code",
      "source": [
        "# visualize the relationship between the features and the response using scatterplots\n",
        "sns.pairplot(df[['SALES_2018', 'SQFT', 'CNT_MALLS_0_5RO', 'LABOR_BLU_8TO']])\n",
        "plt.show();"
      ],
      "execution_count": 106,
      "outputs": [
        {
          "output_type": "display_data",
          "data": {
            "image/png": "[encoded data removed]",
            "text/plain": [
              "<Figure size 720x720 with 20 Axes>"
            ]
          },
          "metadata": {
            "tags": []
          }
        }
      ]
    },
    {
      "metadata": {
        "id": "G8H5FoDtc2Br",
        "colab_type": "code",
        "colab": {
          "base_uri": "https://localhost:8080/",
          "height": 292
        },
        "outputId": "756b4db5-31a2-4515-b976-75048b1fe198"
      },
      "cell_type": "code",
      "source": [
        "# skew and kurtosis\n",
        "sns.distplot(df.SALES_2018)\n",
        "plt.show();"
      ],
      "execution_count": 89,
      "outputs": [
        {
          "output_type": "display_data",
          "data": {
            "image/png": "[encoded data removed]",
            "text/plain": [
              "<Figure size 432x288 with 1 Axes>"
            ]
          },
          "metadata": {
            "tags": []
          }
        }
      ]
    },
    {
      "metadata": {
        "id": "eb5fsz5Pd-6d",
        "colab_type": "code",
        "colab": {
          "base_uri": "https://localhost:8080/",
          "height": 281
        },
        "outputId": "f7e9721b-5e45-4e54-8a09-354bb3860f69"
      },
      "cell_type": "code",
      "source": [
        "# skew and kurtosis\n",
        "sns.distplot(df.SQFT)\n",
        "plt.show();"
      ],
      "execution_count": 90,
      "outputs": [
        {
          "output_type": "display_data",
          "data": {
            "image/png": "[encoded data removed]",
            "text/plain": [
              "<Figure size 432x288 with 1 Axes>"
            ]
          },
          "metadata": {
            "tags": []
          }
        }
      ]
    },
    {
      "metadata": {
        "id": "rmEtPJg8eGlh",
        "colab_type": "code",
        "colab": {
          "base_uri": "https://localhost:8080/",
          "height": 281
        },
        "outputId": "2f971885-63a7-433f-cb7f-4fad4537f790"
      },
      "cell_type": "code",
      "source": [
        "# skew and kurtosis\n",
        "sns.distplot(df.CNT_MALLS_0_5RO)\n",
        "plt.show();"
      ],
      "execution_count": 91,
      "outputs": [
        {
          "output_type": "display_data",
          "data": {
            "image/png": "[encoded data removed]",
            "text/plain": [
              "<Figure size 432x288 with 1 Axes>"
            ]
          },
          "metadata": {
            "tags": []
          }
        }
      ]
    },
    {
      "metadata": {
        "id": "rNsBzF0IeO6M",
        "colab_type": "code",
        "colab": {
          "base_uri": "https://localhost:8080/",
          "height": 281
        },
        "outputId": "cbd53072-8d37-4976-ff0f-2e1af5d2a653"
      },
      "cell_type": "code",
      "source": [
        "# skew and kurtosis\n",
        "sns.distplot(df.LABOR_BLU_8TO)\n",
        "plt.show();"
      ],
      "execution_count": 92,
      "outputs": [
        {
          "output_type": "display_data",
          "data": {
            "image/png": "[encoded data removed]",
            "text/plain": [
              "<Figure size 432x288 with 1 Axes>"
            ]
          },
          "metadata": {
            "tags": []
          }
        }
      ]
    },
    {
      "metadata": {
        "id": "h2NkJeC-2K11",
        "colab_type": "code",
        "colab": {}
      },
      "cell_type": "code",
      "source": [
        "y = df.iloc[:, 1]\n",
        "X = df.loc[:, df.columns != 'SALES_2018']"
      ],
      "execution_count": 0,
      "outputs": []
    },
    {
      "metadata": {
        "id": "eROGle4dNktT",
        "colab_type": "code",
        "colab": {}
      },
      "cell_type": "code",
      "source": [
        "X_train, X_test, y_train, y_test = train_test_split(X, y, test_size=0.1, random_state=0)"
      ],
      "execution_count": 0,
      "outputs": []
    },
    {
      "metadata": {
        "id": "bsAMdILLghqz",
        "colab_type": "code",
        "colab": {
          "base_uri": "https://localhost:8080/",
          "height": 90
        },
        "outputId": "fb3819d2-994b-4b74-a3d2-861ec2fb441a"
      },
      "cell_type": "code",
      "source": [
        "print(X_train.shape)\n",
        "print(X_test.shape)\n",
        "print(y_train.shape)\n",
        "print(y_test.shape)"
      ],
      "execution_count": 109,
      "outputs": [
        {
          "output_type": "stream",
          "text": [
            "(42, 3)\n",
            "(5, 3)\n",
            "(42,)\n",
            "(5,)\n"
          ],
          "name": "stdout"
        }
      ]
    },
    {
      "metadata": {
        "id": "4z6Sj_CbjAD4",
        "colab_type": "code",
        "colab": {}
      },
      "cell_type": "code",
      "source": [
        "from sklearn import metrics\n",
        "from sklearn.linear_model import LinearRegression\n",
        "from sklearn.model_selection import train_test_split\n"
      ],
      "execution_count": 0,
      "outputs": []
    },
    {
      "metadata": {
        "id": "4n7nTMZS5p0U",
        "colab_type": "code",
        "colab": {
          "base_uri": "https://localhost:8080/",
          "height": 35
        },
        "outputId": "475e7382-36bb-4cb5-9d65-c7784246a67c"
      },
      "cell_type": "code",
      "source": [
        "# Instantiate model\n",
        "lm2 = LinearRegression()\n",
        "\n",
        "# Fit Model\n",
        "lm2.fit(X_train, y_train)\n",
        "\n",
        "# Predict\n",
        "y_pred = lm2.predict(X_test)\n",
        "\n",
        "# RMSE\n",
        "print(np.sqrt(metrics.mean_squared_error(y_test, y_pred)))"
      ],
      "execution_count": 130,
      "outputs": [
        {
          "output_type": "stream",
          "text": [
            "3180934.07618773\n"
          ],
          "name": "stdout"
        }
      ]
    },
    {
      "metadata": {
        "id": "XRhQEyf1wNIM",
        "colab_type": "code",
        "colab": {
          "base_uri": "https://localhost:8080/",
          "height": 472
        },
        "outputId": "fde5fde8-ae3d-4367-b785-b4d8afd977fa"
      },
      "cell_type": "code",
      "source": [
        "feature_importance = pd.Series(index = X_train.columns, data = np.abs(lm2.coef_))\n",
        "\n",
        "n_selected_features = (feature_importance>0).sum()\n",
        "print('{0:d} features, reduction of {1:2.2f}%'.format(\n",
        "    n_selected_features,(1-n_selected_features/len(feature_importance))*100))\n",
        "\n",
        "feature_importance.sort_values().tail(30).plot(kind = 'bar', figsize = (12,5));"
      ],
      "execution_count": 131,
      "outputs": [
        {
          "output_type": "stream",
          "text": [
            "441 features, reduction of 0.00%\n"
          ],
          "name": "stdout"
        },
        {
          "output_type": "display_data",
          "data": {
            "image/png": "[encoded data removed]",
            "text/plain": [
              "<Figure size 864x360 with 1 Axes>"
            ]
          },
          "metadata": {
            "tags": []
          }
        }
      ]
    },
    {
      "metadata": {
        "id": "JB0qgki3wQkx",
        "colab_type": "code",
        "colab": {
          "base_uri": "https://localhost:8080/",
          "height": 518
        },
        "outputId": "66768b61-4d32-4c00-f405-9fd9a4859b2c"
      },
      "cell_type": "code",
      "source": [
        "# Plot coefficients in order of importance\n",
        "coefs = pd.Series(lm2.coef_, index = X_train.columns)\n",
        "print(\"LR picked \" + str(sum(coefs != 0)) + \" features and eliminated the other \" +  \\\n",
        "      str(sum(coefs == 0)) + \" features\")\n",
        "imp_coefs = pd.concat([coefs.sort_values().head(10),\n",
        "                     coefs.sort_values().tail(10)])\n",
        "imp_coefs.plot(kind = \"barh\",figsize =(12,8), color = \"green\")\n",
        "plt.title(\"Coefficients in the  Model\")\n",
        "plt.show()"
      ],
      "execution_count": 132,
      "outputs": [
        {
          "output_type": "stream",
          "text": [
            "LR picked 441 features and eliminated the other 0 features\n"
          ],
          "name": "stdout"
        },
        {
          "output_type": "display_data",
          "data": {
            "image/png": "[encoded data removed]",
            "text/plain": [
              "<Figure size 864x576 with 1 Axes>"
            ]
          },
          "metadata": {
            "tags": []
          }
        }
      ]
    },
    {
      "metadata": {
        "id": "QL8nfhsDwivr",
        "colab_type": "code",
        "colab": {}
      },
      "cell_type": "code",
      "source": [
        "import pandas as pd\n",
        "from sklearn.feature_selection import SelectKBest, f_regression\n",
        "\n",
        "def select_kbest_reg(data_frame, target, k=5):\n",
        "    \"\"\"\n",
        "    Selecting K-Best features regression\n",
        "    :param data_frame: A pandas dataFrame with the training data\n",
        "    :param target: target variable name in DataFrame\n",
        "    :param k: desired number of features from the data\n",
        "    :returns feature_scores: scores for each feature in the data as \n",
        "    pandas DataFrame\n",
        "    \"\"\"\n",
        "    feat_selector = SelectKBest(f_regression, k=k)\n",
        "    _ = feat_selector.fit(data_frame.drop(target, axis=1), data_frame[target])\n",
        "    \n",
        "    feat_scores = pd.DataFrame()\n",
        "    feat_scores[\"F Score\"] = feat_selector.scores_\n",
        "    feat_scores[\"P Value\"] = feat_selector.pvalues_\n",
        "    feat_scores[\"Support\"] = feat_selector.get_support()\n",
        "    feat_scores[\"Attribute\"] = data_frame.drop(target, axis=1).columns\n",
        "    \n",
        "    return feat_scores"
      ],
      "execution_count": 0,
      "outputs": []
    },
    {
      "metadata": {
        "id": "aa-NTVHFwjhU",
        "colab_type": "code",
        "colab": {
          "base_uri": "https://localhost:8080/",
          "height": 1234
        },
        "outputId": "fe8a9c09-85e3-461e-f2d1-ebfd0d0ce5c6"
      },
      "cell_type": "code",
      "source": [
        "per_feat = select_kbest_reg(df, 'SALES_2018', k=5)\n",
        "per_feat = per_feat.sort_values([\"F Score\", \"P Value\"], ascending=[False, False])\n",
        "print(\"\\n Feature Score using regression\\n\")\n",
        "print(per_feat)"
      ],
      "execution_count": 137,
      "outputs": [
        {
          "output_type": "stream",
          "text": [
            "\n",
            " Feature Score using regression\n",
            "\n",
            "       F Score   P Value  Support               Attribute\n",
            "0    25.276098  0.000008     True                    SQFT\n",
            "72   11.084478  0.001744     True         CNT_MALLS_0_5RO\n",
            "197   9.679072  0.003232     True           LABOR_BLU_8TO\n",
            "73    7.508323  0.008774     True           CNT_MALLS_1RO\n",
            "198   5.339386  0.025488     True          LABOR_BLU_16TO\n",
            "350   5.089200  0.028983    False          XEDUC_PRO_16TO\n",
            "91    5.028681  0.029904    False            CX02V051_8TO\n",
            "396   4.970037  0.030826    False          XLABOR_BLU_8TO\n",
            "163   4.969980  0.030827    False               HHSZ4_8TO\n",
            "36    4.877123  0.032351    False          AWMNSGRLS_16TO\n",
            "96    4.800521  0.033670    False          EDUC_ASSCT_8TO\n",
            "196   4.756890  0.034448    False           LABOR_BLU_1RO\n",
            "165   4.672976  0.035998    False               HHSZ5_8TO\n",
            "159   4.661136  0.036222    False              HHSZ3P_8TO\n",
            "334   4.506590  0.039299    False         XEDUC_ASSCT_8TO\n",
            "74    4.433887  0.040844    False    CNT_MALLS_100K_0_5RO\n",
            "161   4.359971  0.042483    False               HHSZ3_8TO\n",
            "331   4.345513  0.042812    False           XCX02V051_8TO\n",
            "35    4.195347  0.046396    False           AWMNSGRLS_8TO\n",
            "335   4.127196  0.048130    False        XEDUC_ASSCT_16TO\n",
            "208   4.051401  0.050141    False          MARRIEDPOP_8TO\n",
            "126   3.967252  0.052483    False        HHINC_50_74K_8TO\n",
            "292   3.920563  0.053834    False             VEH_AVG_8TO\n",
            "11    3.916449  0.053955    False  AGE_ELEMIDSCHL0514_8TO\n",
            "83    3.833481  0.056456    False            CX01V142_8TO\n",
            "216   3.828973  0.056596    False               POCHH_8TO\n",
            "395   3.815467  0.057016    False          XLABOR_BLU_1RO\n",
            "13    3.778635  0.058180    False        AGE_GENX4049_8TO\n",
            "213   3.753846  0.058978    False                MPOP_8TO\n",
            "223   3.635535  0.062956    False                 POP_8TO\n",
            "..         ...       ...      ...                     ...\n",
            "312   0.013075  0.909472    False       XAGE_GENY2139_8TO\n",
            "391   0.011498  0.915083    False     XHVAL_500_999K_16TO\n",
            "354   0.010006  0.920763    False      XHHINC_50_74K_16TO\n",
            "382   0.009826  0.921479    False       XHVAL_50_99K_16TO\n",
            "30    0.009630  0.922262    False            AMENBOYS_1RO\n",
            "307   0.009184  0.924079    False  XAGE_ELDERLY7085P_16TO\n",
            "338   0.008797  0.925691    False       XEDUC_BACHPL_16TO\n",
            "268   0.007690  0.930512    False   SCHOOL_MID_SCHLS_16TO\n",
            "272   0.007553  0.931129    False  SCHOOL_MID_STDNTS_16TO\n",
            "211   0.007472  0.931500    False     MIN_DIST_UNIVERSITY\n",
            "251   0.007459  0.931561    False   SCHOOL_ELEM_SCHLS_8TO\n",
            "68    0.007089  0.933274    False        CM_GROCERY_0_5RO\n",
            "31    0.006505  0.936074    False            AMENBOYS_8TO\n",
            "152   0.005930  0.938958    False    HHINC_MED_COLADJ_1RO\n",
            "146   0.005838  0.939432    False          HHINC_L25K_1RO\n",
            "177   0.005067  0.943566    False          HVAL_1MPL_16TO\n",
            "193   0.004128  0.949055    False          INC_PERCAP_1RO\n",
            "231   0.003783  0.951230    False          RACE_BLKHH_1RO\n",
            "388   0.003329  0.954247    False     XHVAL_250_499K_16TO\n",
            "387   0.003122  0.955686    False      XHVAL_250_499K_8TO\n",
            "187   0.002446  0.960777    False          HVAL_L49K_16TO\n",
            "347   0.002185  0.962926    False         XEDUC_MSTR_16TO\n",
            "32    0.001812  0.966237    False           AMENBOYS_16TO\n",
            "189   0.001732  0.966985    False           HVAL_MED_16TO\n",
            "188   0.001581  0.968460    False            HVAL_MED_8TO\n",
            "288   0.001258  0.971866    False          UNIV_COUNT_8TO\n",
            "361   0.000767  0.978028    False     XHHINC_150_249K_8TO\n",
            "219   0.000236  0.987822    False         POPGROW5YR_16TO\n",
            "262   0.000221  0.988214    False    SCHOOL_HI_STDNTS_1RO\n",
            "362   0.000167  0.989747    False    XHHINC_150_249K_16TO\n",
            "\n",
            "[441 rows x 4 columns]\n"
          ],
          "name": "stdout"
        }
      ]
    },
    {
      "metadata": {
        "id": "EV62mE2FjTJ7",
        "colab_type": "code",
        "colab": {
          "base_uri": "https://localhost:8080/",
          "height": 35
        },
        "outputId": "7a8f5a9d-2d4c-45b9-c442-08fdf07e99c3"
      },
      "cell_type": "code",
      "source": [
        "# Include only the top 5\n",
        "X = df[['SQFT', 'CNT_MALLS_0_5RO', 'LABOR_BLU_8TO', 'CNT_MALLS_1RO', 'LABOR_BLU_16TO']]\n",
        "y = df.SALES_2018\n",
        "\n",
        "# Split data\n",
        "X_train, X_test, y_train, y_test = train_test_split(X, y, test_size=0.1, random_state=0)\n",
        "# Instantiate model\n",
        "lm2 = LinearRegression()\n",
        "\n",
        "# Fit model\n",
        "lm2.fit(X_train, y_train)\n",
        "\n",
        "# Predict\n",
        "y_pred = lm2.predict(X_test)\n",
        "\n",
        "# RMSE\n",
        "print(np.sqrt(metrics.mean_squared_error(y_test, y_pred)))"
      ],
      "execution_count": 138,
      "outputs": [
        {
          "output_type": "stream",
          "text": [
            "1270219.3944479183\n"
          ],
          "name": "stdout"
        }
      ]
    },
    {
      "metadata": {
        "id": "Kmk0s0g9l-Vm",
        "colab_type": "code",
        "colab": {
          "base_uri": "https://localhost:8080/",
          "height": 35
        },
        "outputId": "12763813-78c4-457f-9bfc-0c1e6040553e"
      },
      "cell_type": "code",
      "source": [
        "# Include only the top 3\n",
        "X = df[['SQFT', 'CNT_MALLS_0_5RO', 'LABOR_BLU_8TO']]\n",
        "y = df.SALES_2018\n",
        "\n",
        "# Split data\n",
        "X_train, X_test, y_train, y_test = train_test_split(X, y, test_size=0.1, random_state=0)\n",
        "# Instantiate model\n",
        "lm2 = LinearRegression()\n",
        "\n",
        "# Fit model\n",
        "lm2.fit(X_train, y_train)\n",
        "\n",
        "# Predict\n",
        "y_pred = lm2.predict(X_test)\n",
        "\n",
        "# RMSE\n",
        "print(np.sqrt(metrics.mean_squared_error(y_test, y_pred)))"
      ],
      "execution_count": 139,
      "outputs": [
        {
          "output_type": "stream",
          "text": [
            "1324400.8817444514\n"
          ],
          "name": "stdout"
        }
      ]
    },
    {
      "metadata": {
        "id": "u8AnuKhqmNv5",
        "colab_type": "code",
        "colab": {
          "base_uri": "https://localhost:8080/",
          "height": 53
        },
        "outputId": "7226370e-e5e8-41fe-a4be-8b5f06b15317"
      },
      "cell_type": "code",
      "source": [
        "### SCIKIT-LEARN ###\n",
        "\n",
        "# create X and y\n",
        "feature_cols = ['SQFT', 'CNT_MALLS_0_5RO', 'LABOR_BLU_8TO']\n",
        "X = df[feature_cols]\n",
        "y = df.SALES_2018\n",
        "\n",
        "# instantiate and fit\n",
        "lm2 = LinearRegression()\n",
        "lm2.fit(X, y)\n",
        "\n",
        "# print the coefficients\n",
        "print(lm2.intercept_)\n",
        "print(lm2.coef_)"
      ],
      "execution_count": 140,
      "outputs": [
        {
          "output_type": "stream",
          "text": [
            "3686938.6385134393\n",
            "[ 1.10521311e+02 -2.58475345e+05 -4.21386179e+02]\n"
          ],
          "name": "stdout"
        }
      ]
    },
    {
      "metadata": {
        "id": "tITJ3WNtmiv4",
        "colab_type": "code",
        "colab": {
          "base_uri": "https://localhost:8080/",
          "height": 72
        },
        "outputId": "14cea2a7-f9c7-4c54-edd4-45cd970ca4ce"
      },
      "cell_type": "code",
      "source": [
        "# pair the feature names with the coefficients\n",
        "list(zip(feature_cols, lm2.coef_))"
      ],
      "execution_count": 141,
      "outputs": [
        {
          "output_type": "execute_result",
          "data": {
            "text/plain": [
              "[('SQFT', 110.52131126509482),\n",
              " ('CNT_MALLS_0_5RO', -258475.34522145378),\n",
              " ('LABOR_BLU_8TO', -421.3861789452203)]"
            ]
          },
          "metadata": {
            "tags": []
          },
          "execution_count": 141
        }
      ]
    },
    {
      "metadata": {
        "id": "ZAEsrm6aqW4d",
        "colab_type": "code",
        "colab": {
          "base_uri": "https://localhost:8080/",
          "height": 53
        },
        "outputId": "d974d111-eb4e-4d82-b063-c505c2a9f510"
      },
      "cell_type": "code",
      "source": [
        "# make predictions on the testing set\n",
        "y_pred = lm2.predict(X_test)\n",
        "y_pred"
      ],
      "execution_count": 142,
      "outputs": [
        {
          "output_type": "execute_result",
          "data": {
            "text/plain": [
              "array([9658896.96021743, 9557295.90192148, 7573849.34620508,\n",
              "       8784968.15312398, 6693450.56831328])"
            ]
          },
          "metadata": {
            "tags": []
          },
          "execution_count": 142
        }
      ]
    },
    {
      "metadata": {
        "id": "hUWlVLK8qibK",
        "colab_type": "code",
        "colab": {
          "base_uri": "https://localhost:8080/",
          "height": 144
        },
        "outputId": "963e8c4d-b7f2-4dde-e143-90455e692599"
      },
      "cell_type": "code",
      "source": [
        "y_test"
      ],
      "execution_count": 143,
      "outputs": [
        {
          "output_type": "execute_result",
          "data": {
            "text/plain": [
              "SID\n",
              "21266527    9940540.760\n",
              "23074141    7534766.440\n",
              "21266529    6311022.678\n",
              "21266500    8395815.468\n",
              "21266515    7681813.486\n",
              "Name: SALES_2018, dtype: float64"
            ]
          },
          "metadata": {
            "tags": []
          },
          "execution_count": 143
        }
      ]
    }
  ]
}