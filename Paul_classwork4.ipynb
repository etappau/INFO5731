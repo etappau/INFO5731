{
  "nbformat": 4,
  "nbformat_minor": 0,
  "metadata": {
    "colab": {
      "name": "Paul_classwork4.ipynb",
      "version": "0.3.2",
      "provenance": [],
      "collapsed_sections": [],
      "include_colab_link": true
    },
    "kernelspec": {
      "name": "python3",
      "display_name": "Python 3"
    },
    "accelerator": "TPU"
  },
  "cells": [
    {
      "cell_type": "markdown",
      "metadata": {
        "id": "view-in-github",
        "colab_type": "text"
      },
      "source": [
        "<a href=\"https://colab.research.google.com/github/etappau/info5731/blob/master/Paul_classwork4.ipynb\" target=\"_parent\"><img src=\"https://colab.research.google.com/assets/colab-badge.svg\" alt=\"Open In Colab\"/></a>"
      ]
    },
    {
      "metadata": {
        "id": "nVTucGeB4PNf",
        "colab_type": "text"
      },
      "cell_type": "markdown",
      "source": [
        "# Class Work 4"
      ]
    },
    {
      "metadata": {
        "id": "n_Edg2kT4ay_",
        "colab_type": "text"
      },
      "cell_type": "markdown",
      "source": [
        "Please go to [this link](https://github.com/wshuyi/info-5731-public/raw/master/loans.csv) to download the dataset. It comes from a simplified version of [lending club data](https://www.lendingclub.com/info/download-data.action).\n",
        "\n",
        "If you want to use fast.ai to solve this assignment, click on [this link](https://docs.fast.ai/tabular.html) for the documentation."
      ]
    },
    {
      "metadata": {
        "id": "8hpjKNIB4bKD",
        "colab_type": "code",
        "outputId": "47b8f763-a821-4451-915a-6a6650038cc9",
        "colab": {
          "base_uri": "https://localhost:8080/",
          "height": 217
        }
      },
      "cell_type": "code",
      "source": [
        "!wget https://raw.githubusercontent.com/wshuyi/info-5731-public/master/loans.csv"
      ],
      "execution_count": 1,
      "outputs": [
        {
          "output_type": "stream",
          "text": [
            "--2019-04-17 05:48:12--  https://raw.githubusercontent.com/wshuyi/info-5731-public/master/loans.csv\n",
            "Resolving raw.githubusercontent.com (raw.githubusercontent.com)... 151.101.0.133, 151.101.64.133, 151.101.128.133, ...\n",
            "Connecting to raw.githubusercontent.com (raw.githubusercontent.com)|151.101.0.133|:443... connected.\n",
            "HTTP request sent, awaiting response... 200 OK\n",
            "Length: 2951503 (2.8M) [text/plain]\n",
            "Saving to: ‘loans.csv’\n",
            "\n",
            "\rloans.csv             0%[                    ]       0  --.-KB/s               \rloans.csv           100%[===================>]   2.81M  --.-KB/s    in 0.1s    \n",
            "\n",
            "2019-04-17 05:48:12 (29.2 MB/s) - ‘loans.csv’ saved [2951503/2951503]\n",
            "\n"
          ],
          "name": "stdout"
        }
      ]
    },
    {
      "metadata": {
        "id": "VTVGhzh04b6T",
        "colab_type": "text"
      },
      "cell_type": "markdown",
      "source": [
        "**Question 1 (10 points).** Load the dataset into a Pandas Dataframe named `df`. Print out the first five lines of  `df`."
      ]
    },
    {
      "metadata": {
        "id": "qlzhAIZq4fO3",
        "colab_type": "code",
        "colab": {}
      },
      "cell_type": "code",
      "source": [
        "import pandas as pd"
      ],
      "execution_count": 0,
      "outputs": []
    },
    {
      "metadata": {
        "id": "56SUq9UW60sM",
        "colab_type": "code",
        "outputId": "80abd8d3-b2bc-4b81-c267-c10c7963b079",
        "colab": {
          "base_uri": "https://localhost:8080/",
          "height": 313
        }
      },
      "cell_type": "code",
      "source": [
        "df = pd.read_csv(\"loans.csv\")\n",
        "df.head()"
      ],
      "execution_count": 3,
      "outputs": [
        {
          "output_type": "execute_result",
          "data": {
            "text/html": [
              "<div>\n",
              "<style scoped>\n",
              "    .dataframe tbody tr th:only-of-type {\n",
              "        vertical-align: middle;\n",
              "    }\n",
              "\n",
              "    .dataframe tbody tr th {\n",
              "        vertical-align: top;\n",
              "    }\n",
              "\n",
              "    .dataframe thead th {\n",
              "        text-align: right;\n",
              "    }\n",
              "</style>\n",
              "<table border=\"1\" class=\"dataframe\">\n",
              "  <thead>\n",
              "    <tr style=\"text-align: right;\">\n",
              "      <th></th>\n",
              "      <th>grade</th>\n",
              "      <th>sub_grade</th>\n",
              "      <th>short_emp</th>\n",
              "      <th>emp_length_num</th>\n",
              "      <th>home_ownership</th>\n",
              "      <th>dti</th>\n",
              "      <th>purpose</th>\n",
              "      <th>term</th>\n",
              "      <th>last_delinq_none</th>\n",
              "      <th>last_major_derog_none</th>\n",
              "      <th>revol_util</th>\n",
              "      <th>total_rec_late_fee</th>\n",
              "      <th>safe_loans</th>\n",
              "    </tr>\n",
              "  </thead>\n",
              "  <tbody>\n",
              "    <tr>\n",
              "      <th>0</th>\n",
              "      <td>C</td>\n",
              "      <td>C1</td>\n",
              "      <td>1</td>\n",
              "      <td>1</td>\n",
              "      <td>RENT</td>\n",
              "      <td>17.47</td>\n",
              "      <td>debt_consolidation</td>\n",
              "      <td>36 months</td>\n",
              "      <td>1</td>\n",
              "      <td>1</td>\n",
              "      <td>50.8</td>\n",
              "      <td>0.0</td>\n",
              "      <td>0</td>\n",
              "    </tr>\n",
              "    <tr>\n",
              "      <th>1</th>\n",
              "      <td>A</td>\n",
              "      <td>A4</td>\n",
              "      <td>0</td>\n",
              "      <td>6</td>\n",
              "      <td>RENT</td>\n",
              "      <td>18.98</td>\n",
              "      <td>car</td>\n",
              "      <td>36 months</td>\n",
              "      <td>0</td>\n",
              "      <td>1</td>\n",
              "      <td>32.1</td>\n",
              "      <td>0.0</td>\n",
              "      <td>1</td>\n",
              "    </tr>\n",
              "    <tr>\n",
              "      <th>2</th>\n",
              "      <td>A</td>\n",
              "      <td>A3</td>\n",
              "      <td>0</td>\n",
              "      <td>2</td>\n",
              "      <td>MORTGAGE</td>\n",
              "      <td>19.56</td>\n",
              "      <td>debt_consolidation</td>\n",
              "      <td>36 months</td>\n",
              "      <td>1</td>\n",
              "      <td>1</td>\n",
              "      <td>48.1</td>\n",
              "      <td>0.0</td>\n",
              "      <td>0</td>\n",
              "    </tr>\n",
              "    <tr>\n",
              "      <th>3</th>\n",
              "      <td>B</td>\n",
              "      <td>B4</td>\n",
              "      <td>0</td>\n",
              "      <td>5</td>\n",
              "      <td>OWN</td>\n",
              "      <td>25.40</td>\n",
              "      <td>debt_consolidation</td>\n",
              "      <td>36 months</td>\n",
              "      <td>0</td>\n",
              "      <td>1</td>\n",
              "      <td>85.0</td>\n",
              "      <td>0.0</td>\n",
              "      <td>0</td>\n",
              "    </tr>\n",
              "    <tr>\n",
              "      <th>4</th>\n",
              "      <td>F</td>\n",
              "      <td>F3</td>\n",
              "      <td>0</td>\n",
              "      <td>2</td>\n",
              "      <td>RENT</td>\n",
              "      <td>6.00</td>\n",
              "      <td>other</td>\n",
              "      <td>60 months</td>\n",
              "      <td>0</td>\n",
              "      <td>1</td>\n",
              "      <td>85.4</td>\n",
              "      <td>0.0</td>\n",
              "      <td>1</td>\n",
              "    </tr>\n",
              "  </tbody>\n",
              "</table>\n",
              "</div>"
            ],
            "text/plain": [
              "  grade sub_grade  short_emp  emp_length_num home_ownership    dti  \\\n",
              "0     C        C1          1               1           RENT  17.47   \n",
              "1     A        A4          0               6           RENT  18.98   \n",
              "2     A        A3          0               2       MORTGAGE  19.56   \n",
              "3     B        B4          0               5            OWN  25.40   \n",
              "4     F        F3          0               2           RENT   6.00   \n",
              "\n",
              "              purpose        term  last_delinq_none  last_major_derog_none  \\\n",
              "0  debt_consolidation   36 months                 1                      1   \n",
              "1                 car   36 months                 0                      1   \n",
              "2  debt_consolidation   36 months                 1                      1   \n",
              "3  debt_consolidation   36 months                 0                      1   \n",
              "4               other   60 months                 0                      1   \n",
              "\n",
              "   revol_util  total_rec_late_fee  safe_loans  \n",
              "0        50.8                 0.0           0  \n",
              "1        32.1                 0.0           1  \n",
              "2        48.1                 0.0           0  \n",
              "3        85.0                 0.0           0  \n",
              "4        85.4                 0.0           1  "
            ]
          },
          "metadata": {
            "tags": []
          },
          "execution_count": 3
        }
      ]
    },
    {
      "metadata": {
        "id": "FDCc-o-G4fs0",
        "colab_type": "text"
      },
      "cell_type": "markdown",
      "source": [
        "You should get something like this:\n",
        "\n",
        "![](https://github.com/wshuyi/github_pub_img/raw/master/assets/2019-04-16-11-01-03-944728.png)\n"
      ]
    },
    {
      "metadata": {
        "id": "44NOIXdU4gzq",
        "colab_type": "code",
        "colab": {}
      },
      "cell_type": "code",
      "source": [
        ""
      ],
      "execution_count": 0,
      "outputs": []
    },
    {
      "metadata": {
        "id": "9BcHZyDz4jFp",
        "colab_type": "text"
      },
      "cell_type": "markdown",
      "source": [
        "**Question 2 (10 points).** Print out the list of column names of `df`."
      ]
    },
    {
      "metadata": {
        "id": "TFYAqOwL4jUM",
        "colab_type": "code",
        "outputId": "deeff26a-6f25-4ff2-a2be-302e930459a0",
        "colab": {
          "base_uri": "https://localhost:8080/",
          "height": 90
        }
      },
      "cell_type": "code",
      "source": [
        "df.columns"
      ],
      "execution_count": 4,
      "outputs": [
        {
          "output_type": "execute_result",
          "data": {
            "text/plain": [
              "Index(['grade', 'sub_grade', 'short_emp', 'emp_length_num', 'home_ownership',\n",
              "       'dti', 'purpose', 'term', 'last_delinq_none', 'last_major_derog_none',\n",
              "       'revol_util', 'total_rec_late_fee', 'safe_loans'],\n",
              "      dtype='object')"
            ]
          },
          "metadata": {
            "tags": []
          },
          "execution_count": 4
        }
      ]
    },
    {
      "metadata": {
        "id": "R5indXlb4pB5",
        "colab_type": "text"
      },
      "cell_type": "markdown",
      "source": [
        "You should get something like this:\n",
        "\n",
        "![](https://github.com/wshuyi/github_pub_img/raw/master/assets/2019-04-16-11-01-03-945063.png)"
      ]
    },
    {
      "metadata": {
        "id": "Z8uTcWnk4lmR",
        "colab_type": "text"
      },
      "cell_type": "markdown",
      "source": [
        "Here is the definition of each column.\n",
        "\n",
        "* `grade`：LC assigned loan grade\n",
        "* `sub_grade`: LC assigned loan subgrade\n",
        "* `short_emp`：one year or less of employment\n",
        "* `emp_length_num`：Employment length in years. Possible values are between 0 and 10 where 0 means less than one year and 10 means ten or more years.\n",
        "* `home_ownership`：The home ownership status provided by the borrower during registration. Our values are: RENT, OWN, MORTGAGE, OTHER.\n",
        "* `dti`：A ratio calculated using the borrower’s total monthly debt payments on the total debt obligations, excluding mortgage and the requested LC loan, divided by the borrower’s self-reported monthly income.\n",
        "* `purpose`：A category provided by the borrower for the loan request.\n",
        "* `term`：The number of payments on the loan. Values are in months and can be either 36 or 60.\n",
        "* `last_delinq_none`：has borrower had a delinquincy\n",
        "* `last_major_derog_none`：has borrower had 90 day or worse rating\n",
        "* `revol_util`：percent of available credit being used\n",
        "* `total_rec_late_fee`：late fees received to date\n",
        "* `safe_loans`：safe loan or not, use it as **target label**"
      ]
    },
    {
      "metadata": {
        "id": "fs9IYSCN4stR",
        "colab_type": "text"
      },
      "cell_type": "markdown",
      "source": [
        "You will need to build a model to predict if a loan is safe."
      ]
    },
    {
      "metadata": {
        "id": "wZPNwBFv4uNf",
        "colab_type": "text"
      },
      "cell_type": "markdown",
      "source": [
        "**Question 3 (10 points).** Split 20% of the dataset into `test` Dataframe, use `random_state=1` to make sure our data are identical. Print out the first five rows of `test`."
      ]
    },
    {
      "metadata": {
        "id": "p7JCVLiv4vdz",
        "colab_type": "code",
        "colab": {
          "base_uri": "https://localhost:8080/",
          "height": 90
        },
        "outputId": "5f02b12d-0487-433d-bf5e-b5cd8ee1e3e5"
      },
      "cell_type": "code",
      "source": [
        "!pip install -q tensorflow==2.0.0-alpha0"
      ],
      "execution_count": 5,
      "outputs": [
        {
          "output_type": "stream",
          "text": [
            "\u001b[K    100% |████████████████████████████████| 79.9MB 422kB/s \n",
            "\u001b[K    100% |████████████████████████████████| 419kB 21.3MB/s \n",
            "\u001b[K    100% |████████████████████████████████| 3.0MB 10.4MB/s \n",
            "\u001b[K    100% |████████████████████████████████| 61kB 23.6MB/s \n",
            "\u001b[?25h"
          ],
          "name": "stdout"
        }
      ]
    },
    {
      "metadata": {
        "id": "-JEBp4F57Y7m",
        "colab_type": "code",
        "colab": {}
      },
      "cell_type": "code",
      "source": [
        "import tensorflow as tf\n",
        "from tensorflow import keras"
      ],
      "execution_count": 0,
      "outputs": []
    },
    {
      "metadata": {
        "id": "Qw9mivxd7d9X",
        "colab_type": "code",
        "colab": {}
      },
      "cell_type": "code",
      "source": [
        "from sklearn.model_selection import train_test_split"
      ],
      "execution_count": 0,
      "outputs": []
    },
    {
      "metadata": {
        "id": "rlCq12n27fqP",
        "colab_type": "code",
        "colab": {}
      },
      "cell_type": "code",
      "source": [
        "train, test = train_test_split(df, test_size=0.2, random_state=1)"
      ],
      "execution_count": 0,
      "outputs": []
    },
    {
      "metadata": {
        "id": "M_Sfzre67qBZ",
        "colab_type": "code",
        "outputId": "34e45509-df1f-4193-e369-64b01745eefe",
        "colab": {
          "base_uri": "https://localhost:8080/",
          "height": 35
        }
      },
      "cell_type": "code",
      "source": [
        "len(train)"
      ],
      "execution_count": 9,
      "outputs": [
        {
          "output_type": "execute_result",
          "data": {
            "text/plain": [
              "37206"
            ]
          },
          "metadata": {
            "tags": []
          },
          "execution_count": 9
        }
      ]
    },
    {
      "metadata": {
        "id": "P4hjYTg77scQ",
        "colab_type": "code",
        "outputId": "d497f571-8fe3-4be3-d546-543134db59f3",
        "colab": {
          "base_uri": "https://localhost:8080/",
          "height": 35
        }
      },
      "cell_type": "code",
      "source": [
        "len(test)"
      ],
      "execution_count": 10,
      "outputs": [
        {
          "output_type": "execute_result",
          "data": {
            "text/plain": [
              "9302"
            ]
          },
          "metadata": {
            "tags": []
          },
          "execution_count": 10
        }
      ]
    },
    {
      "metadata": {
        "id": "ZT25Ju7O7uL5",
        "colab_type": "code",
        "outputId": "c6b664e4-3e58-411e-dafe-aee9ef68fb8c",
        "colab": {
          "base_uri": "https://localhost:8080/",
          "height": 313
        }
      },
      "cell_type": "code",
      "source": [
        "test.head()"
      ],
      "execution_count": 11,
      "outputs": [
        {
          "output_type": "execute_result",
          "data": {
            "text/html": [
              "<div>\n",
              "<style scoped>\n",
              "    .dataframe tbody tr th:only-of-type {\n",
              "        vertical-align: middle;\n",
              "    }\n",
              "\n",
              "    .dataframe tbody tr th {\n",
              "        vertical-align: top;\n",
              "    }\n",
              "\n",
              "    .dataframe thead th {\n",
              "        text-align: right;\n",
              "    }\n",
              "</style>\n",
              "<table border=\"1\" class=\"dataframe\">\n",
              "  <thead>\n",
              "    <tr style=\"text-align: right;\">\n",
              "      <th></th>\n",
              "      <th>grade</th>\n",
              "      <th>sub_grade</th>\n",
              "      <th>short_emp</th>\n",
              "      <th>emp_length_num</th>\n",
              "      <th>home_ownership</th>\n",
              "      <th>dti</th>\n",
              "      <th>purpose</th>\n",
              "      <th>term</th>\n",
              "      <th>last_delinq_none</th>\n",
              "      <th>last_major_derog_none</th>\n",
              "      <th>revol_util</th>\n",
              "      <th>total_rec_late_fee</th>\n",
              "      <th>safe_loans</th>\n",
              "    </tr>\n",
              "  </thead>\n",
              "  <tbody>\n",
              "    <tr>\n",
              "      <th>8406</th>\n",
              "      <td>B</td>\n",
              "      <td>B5</td>\n",
              "      <td>0</td>\n",
              "      <td>9</td>\n",
              "      <td>MORTGAGE</td>\n",
              "      <td>23.26</td>\n",
              "      <td>debt_consolidation</td>\n",
              "      <td>36 months</td>\n",
              "      <td>1</td>\n",
              "      <td>1</td>\n",
              "      <td>65.8</td>\n",
              "      <td>0.0</td>\n",
              "      <td>1</td>\n",
              "    </tr>\n",
              "    <tr>\n",
              "      <th>42392</th>\n",
              "      <td>C</td>\n",
              "      <td>C2</td>\n",
              "      <td>0</td>\n",
              "      <td>6</td>\n",
              "      <td>RENT</td>\n",
              "      <td>5.16</td>\n",
              "      <td>major_purchase</td>\n",
              "      <td>36 months</td>\n",
              "      <td>1</td>\n",
              "      <td>1</td>\n",
              "      <td>51.0</td>\n",
              "      <td>0.0</td>\n",
              "      <td>0</td>\n",
              "    </tr>\n",
              "    <tr>\n",
              "      <th>16231</th>\n",
              "      <td>C</td>\n",
              "      <td>C3</td>\n",
              "      <td>0</td>\n",
              "      <td>9</td>\n",
              "      <td>MORTGAGE</td>\n",
              "      <td>15.40</td>\n",
              "      <td>credit_card</td>\n",
              "      <td>60 months</td>\n",
              "      <td>1</td>\n",
              "      <td>1</td>\n",
              "      <td>72.1</td>\n",
              "      <td>0.0</td>\n",
              "      <td>1</td>\n",
              "    </tr>\n",
              "    <tr>\n",
              "      <th>40059</th>\n",
              "      <td>C</td>\n",
              "      <td>C4</td>\n",
              "      <td>0</td>\n",
              "      <td>7</td>\n",
              "      <td>RENT</td>\n",
              "      <td>30.29</td>\n",
              "      <td>credit_card</td>\n",
              "      <td>36 months</td>\n",
              "      <td>1</td>\n",
              "      <td>1</td>\n",
              "      <td>43.3</td>\n",
              "      <td>0.0</td>\n",
              "      <td>0</td>\n",
              "    </tr>\n",
              "    <tr>\n",
              "      <th>27945</th>\n",
              "      <td>B</td>\n",
              "      <td>B4</td>\n",
              "      <td>0</td>\n",
              "      <td>4</td>\n",
              "      <td>RENT</td>\n",
              "      <td>10.34</td>\n",
              "      <td>small_business</td>\n",
              "      <td>60 months</td>\n",
              "      <td>1</td>\n",
              "      <td>1</td>\n",
              "      <td>57.2</td>\n",
              "      <td>0.0</td>\n",
              "      <td>0</td>\n",
              "    </tr>\n",
              "  </tbody>\n",
              "</table>\n",
              "</div>"
            ],
            "text/plain": [
              "      grade sub_grade  short_emp  emp_length_num home_ownership    dti  \\\n",
              "8406      B        B5          0               9       MORTGAGE  23.26   \n",
              "42392     C        C2          0               6           RENT   5.16   \n",
              "16231     C        C3          0               9       MORTGAGE  15.40   \n",
              "40059     C        C4          0               7           RENT  30.29   \n",
              "27945     B        B4          0               4           RENT  10.34   \n",
              "\n",
              "                  purpose        term  last_delinq_none  \\\n",
              "8406   debt_consolidation   36 months                 1   \n",
              "42392      major_purchase   36 months                 1   \n",
              "16231         credit_card   60 months                 1   \n",
              "40059         credit_card   36 months                 1   \n",
              "27945      small_business   60 months                 1   \n",
              "\n",
              "       last_major_derog_none  revol_util  total_rec_late_fee  safe_loans  \n",
              "8406                       1        65.8                 0.0           1  \n",
              "42392                      1        51.0                 0.0           0  \n",
              "16231                      1        72.1                 0.0           1  \n",
              "40059                      1        43.3                 0.0           0  \n",
              "27945                      1        57.2                 0.0           0  "
            ]
          },
          "metadata": {
            "tags": []
          },
          "execution_count": 11
        }
      ]
    },
    {
      "metadata": {
        "id": "es0NcRjT4wJL",
        "colab_type": "text"
      },
      "cell_type": "markdown",
      "source": [
        "You should get something like this:\n",
        "\n",
        "![](https://github.com/wshuyi/github_pub_img/raw/master/assets/2019-04-16-11-01-03-945439.png)"
      ]
    },
    {
      "metadata": {
        "id": "cFJv1qmRBkOz",
        "colab_type": "code",
        "colab": {}
      },
      "cell_type": "code",
      "source": [
        "train, valid = train_test_split(train, test_size=0.2, random_state=1)"
      ],
      "execution_count": 0,
      "outputs": []
    },
    {
      "metadata": {
        "id": "wsOUgmm_BpZ2",
        "colab_type": "code",
        "outputId": "85062be4-c307-4da7-b2c7-a21f386d7c36",
        "colab": {
          "base_uri": "https://localhost:8080/",
          "height": 35
        }
      },
      "cell_type": "code",
      "source": [
        "len(train)"
      ],
      "execution_count": 15,
      "outputs": [
        {
          "output_type": "execute_result",
          "data": {
            "text/plain": [
              "29764"
            ]
          },
          "metadata": {
            "tags": []
          },
          "execution_count": 15
        }
      ]
    },
    {
      "metadata": {
        "id": "qzufN05vBrKD",
        "colab_type": "code",
        "outputId": "9eeddcab-73b1-4fe8-8ef7-ec63d9c81dfe",
        "colab": {
          "base_uri": "https://localhost:8080/",
          "height": 35
        }
      },
      "cell_type": "code",
      "source": [
        "len(valid)"
      ],
      "execution_count": 14,
      "outputs": [
        {
          "output_type": "execute_result",
          "data": {
            "text/plain": [
              "7442"
            ]
          },
          "metadata": {
            "tags": []
          },
          "execution_count": 14
        }
      ]
    },
    {
      "metadata": {
        "id": "W_HpE8O44x4a",
        "colab_type": "text"
      },
      "cell_type": "markdown",
      "source": [
        "**Question 4 (20 points).** Do feature selection and engineering. Convert your data into the Input format of the deep learning framework accordingly. If you use Tensorflow, print out your feature columns. If you use fast.ai, print `data.train_ds.cont_names`."
      ]
    },
    {
      "metadata": {
        "id": "uPRLsOkM4y0t",
        "colab_type": "code",
        "colab": {}
      },
      "cell_type": "code",
      "source": [
        "from tensorflow import feature_column"
      ],
      "execution_count": 0,
      "outputs": []
    },
    {
      "metadata": {
        "id": "j4S6xKRZ8GRS",
        "colab_type": "code",
        "colab": {}
      },
      "cell_type": "code",
      "source": [
        "tf.random.set_seed(1)"
      ],
      "execution_count": 0,
      "outputs": []
    },
    {
      "metadata": {
        "id": "uSwQIvys8s1c",
        "colab_type": "code",
        "outputId": "ebca6a78-c5f3-466c-dd73-f21b89fac7a3",
        "colab": {
          "base_uri": "https://localhost:8080/",
          "height": 90
        }
      },
      "cell_type": "code",
      "source": [
        "df.columns"
      ],
      "execution_count": 18,
      "outputs": [
        {
          "output_type": "execute_result",
          "data": {
            "text/plain": [
              "Index(['grade', 'sub_grade', 'short_emp', 'emp_length_num', 'home_ownership',\n",
              "       'dti', 'purpose', 'term', 'last_delinq_none', 'last_major_derog_none',\n",
              "       'revol_util', 'total_rec_late_fee', 'safe_loans'],\n",
              "      dtype='object')"
            ]
          },
          "metadata": {
            "tags": []
          },
          "execution_count": 18
        }
      ]
    },
    {
      "metadata": {
        "id": "4tNY1PBV8N0q",
        "colab_type": "code",
        "colab": {}
      },
      "cell_type": "code",
      "source": [
        "numeric_columns = ['emp_length_num', 'dti', 'revol_util', 'total_rec_late_fee']\n",
        "categorical_columns = ['grade', 'sub_grade', 'short_emp', 'home_ownership', 'purpose', 'term', 'last_delinq_none', 'last_major_derog_none']"
      ],
      "execution_count": 0,
      "outputs": []
    },
    {
      "metadata": {
        "id": "Qic_8Q2r-Cb4",
        "colab_type": "code",
        "colab": {}
      },
      "cell_type": "code",
      "source": [
        "feature_columns = []"
      ],
      "execution_count": 0,
      "outputs": []
    },
    {
      "metadata": {
        "id": "bmIHs7YB-ENA",
        "colab_type": "code",
        "colab": {}
      },
      "cell_type": "code",
      "source": [
        "for header in numeric_columns:\n",
        "  feature_columns.append(feature_column.numeric_column(header))"
      ],
      "execution_count": 0,
      "outputs": []
    },
    {
      "metadata": {
        "id": "Ij6Y0d-8-GB_",
        "colab_type": "code",
        "outputId": "e0802b8f-9490-4320-c774-adfef5e51d5e",
        "colab": {
          "base_uri": "https://localhost:8080/",
          "height": 90
        }
      },
      "cell_type": "code",
      "source": [
        "feature_columns"
      ],
      "execution_count": 22,
      "outputs": [
        {
          "output_type": "execute_result",
          "data": {
            "text/plain": [
              "[NumericColumn(key='emp_length_num', shape=(1,), default_value=None, dtype=tf.float32, normalizer_fn=None),\n",
              " NumericColumn(key='dti', shape=(1,), default_value=None, dtype=tf.float32, normalizer_fn=None),\n",
              " NumericColumn(key='revol_util', shape=(1,), default_value=None, dtype=tf.float32, normalizer_fn=None),\n",
              " NumericColumn(key='total_rec_late_fee', shape=(1,), default_value=None, dtype=tf.float32, normalizer_fn=None)]"
            ]
          },
          "metadata": {
            "tags": []
          },
          "execution_count": 22
        }
      ]
    },
    {
      "metadata": {
        "id": "6WeDlEA4-K2R",
        "colab_type": "code",
        "colab": {}
      },
      "cell_type": "code",
      "source": [
        "def get_one_hot_rom_categorical(colname):\n",
        "  categorical = feature_column.categorical_column_with_vocabulary_list(\n",
        "  colname,\n",
        "  train[colname].unique().tolist())\n",
        "  return feature_column.indicator_column(categorical)"
      ],
      "execution_count": 0,
      "outputs": []
    },
    {
      "metadata": {
        "id": "rQzDVLVF-VGg",
        "colab_type": "code",
        "colab": {}
      },
      "cell_type": "code",
      "source": [
        "for col in categorical_columns:\n",
        "  feature_columns.append(get_one_hot_rom_categorical(col))"
      ],
      "execution_count": 0,
      "outputs": []
    },
    {
      "metadata": {
        "id": "6ESTSW9n-YOp",
        "colab_type": "code",
        "outputId": "88b3ef51-1342-497b-9f8e-9d50331f363b",
        "colab": {
          "base_uri": "https://localhost:8080/",
          "height": 255
        }
      },
      "cell_type": "code",
      "source": [
        "feature_columns"
      ],
      "execution_count": 25,
      "outputs": [
        {
          "output_type": "execute_result",
          "data": {
            "text/plain": [
              "[NumericColumn(key='emp_length_num', shape=(1,), default_value=None, dtype=tf.float32, normalizer_fn=None),\n",
              " NumericColumn(key='dti', shape=(1,), default_value=None, dtype=tf.float32, normalizer_fn=None),\n",
              " NumericColumn(key='revol_util', shape=(1,), default_value=None, dtype=tf.float32, normalizer_fn=None),\n",
              " NumericColumn(key='total_rec_late_fee', shape=(1,), default_value=None, dtype=tf.float32, normalizer_fn=None),\n",
              " IndicatorColumn(categorical_column=VocabularyListCategoricalColumn(key='grade', vocabulary_list=('B', 'F', 'C', 'A', 'D', 'E', 'G'), dtype=tf.string, default_value=-1, num_oov_buckets=0)),\n",
              " IndicatorColumn(categorical_column=VocabularyListCategoricalColumn(key='sub_grade', vocabulary_list=('B5', 'F3', 'C1', 'A5', 'C4', 'C5', 'D2', 'B1', 'D4', 'C2', 'B4', 'B3', 'D5', 'F1', 'E3', 'A2', 'E2', 'A1', 'D1', 'E4', 'C3', 'D3', 'A3', 'B2', 'A4', 'F2', 'F5', 'E1', 'E5', 'G4', 'G3', 'F4', 'G5', 'G2', 'G1'), dtype=tf.string, default_value=-1, num_oov_buckets=0)),\n",
              " IndicatorColumn(categorical_column=VocabularyListCategoricalColumn(key='short_emp', vocabulary_list=(0, 1), dtype=tf.int64, default_value=-1, num_oov_buckets=0)),\n",
              " IndicatorColumn(categorical_column=VocabularyListCategoricalColumn(key='home_ownership', vocabulary_list=('MORTGAGE', 'OWN', 'RENT', 'OTHER'), dtype=tf.string, default_value=-1, num_oov_buckets=0)),\n",
              " IndicatorColumn(categorical_column=VocabularyListCategoricalColumn(key='purpose', vocabulary_list=('debt_consolidation', 'small_business', 'credit_card', 'other', 'major_purchase', 'home_improvement', 'wedding', 'car', 'medical', 'moving', 'house', 'vacation'), dtype=tf.string, default_value=-1, num_oov_buckets=0)),\n",
              " IndicatorColumn(categorical_column=VocabularyListCategoricalColumn(key='term', vocabulary_list=(' 36 months', ' 60 months'), dtype=tf.string, default_value=-1, num_oov_buckets=0)),\n",
              " IndicatorColumn(categorical_column=VocabularyListCategoricalColumn(key='last_delinq_none', vocabulary_list=(1, 0), dtype=tf.int64, default_value=-1, num_oov_buckets=0)),\n",
              " IndicatorColumn(categorical_column=VocabularyListCategoricalColumn(key='last_major_derog_none', vocabulary_list=(1, 0), dtype=tf.int64, default_value=-1, num_oov_buckets=0))]"
            ]
          },
          "metadata": {
            "tags": []
          },
          "execution_count": 25
        }
      ]
    },
    {
      "metadata": {
        "id": "fLbBxrcH40SX",
        "colab_type": "text"
      },
      "cell_type": "markdown",
      "source": [
        "For Tensorflow, your output should be like this.\n",
        "\n",
        "![](https://github.com/wshuyi/github_pub_img/raw/master/assets/2019-04-16-11-01-03-946006.png)"
      ]
    },
    {
      "metadata": {
        "id": "L4C8MSWE9r6e",
        "colab_type": "code",
        "colab": {}
      },
      "cell_type": "code",
      "source": [
        ""
      ],
      "execution_count": 0,
      "outputs": []
    },
    {
      "metadata": {
        "id": "400njlsJ41dQ",
        "colab_type": "text"
      },
      "cell_type": "markdown",
      "source": [
        "For fast.ai, your output should be like this.\n",
        "\n",
        "![](https://github.com/wshuyi/github_pub_img/raw/master/assets/2019-04-16-11-01-03-946326.png)"
      ]
    },
    {
      "metadata": {
        "id": "AP44-liY40l6",
        "colab_type": "code",
        "colab": {}
      },
      "cell_type": "code",
      "source": [
        "from tensorflow.keras import layers"
      ],
      "execution_count": 0,
      "outputs": []
    },
    {
      "metadata": {
        "id": "EAKitgCJ-oS5",
        "colab_type": "code",
        "colab": {}
      },
      "cell_type": "code",
      "source": [
        "feature_layer = layers.DenseFeatures(feature_columns)"
      ],
      "execution_count": 0,
      "outputs": []
    },
    {
      "metadata": {
        "id": "1qloafJx43XN",
        "colab_type": "text"
      },
      "cell_type": "markdown",
      "source": [
        "**Question 5 (20 points).** Build a model containing two hidden layers, train it and get the accuracy on your valid set.\n"
      ]
    },
    {
      "metadata": {
        "id": "IfeObq-f44pF",
        "colab_type": "code",
        "colab": {}
      },
      "cell_type": "code",
      "source": [
        "model = keras.Sequential()\n",
        "model.add(feature_layer)\n",
        "model.add(layers.Dense(200, activation='relu'))\n",
        "model.add(layers.Dense(100, activation='relu'))\n",
        "model.add(layers.Dense(1, activation='sigmoid'))"
      ],
      "execution_count": 0,
      "outputs": []
    },
    {
      "metadata": {
        "id": "QYKBRH2TAgYz",
        "colab_type": "code",
        "colab": {}
      },
      "cell_type": "code",
      "source": [
        "model.compile(optimizer='adam',\n",
        "             loss='binary_crossentropy',\n",
        "             metrics=['accuracy'])"
      ],
      "execution_count": 0,
      "outputs": []
    },
    {
      "metadata": {
        "id": "b51T3SFtAkxi",
        "colab_type": "code",
        "colab": {}
      },
      "cell_type": "code",
      "source": [
        "def df_to_tfdata(df, shuffle=True, bs=32):\n",
        "  df = df.copy()\n",
        "  labels = df.pop('safe_loans')\n",
        "  ds = tf.data.Dataset.from_tensor_slices((dict(df), labels))\n",
        "  if shuffle:\n",
        "    ds = ds.shuffle(buffer_size=len(df), seed=1)\n",
        "  ds = ds.batch(bs)\n",
        "  return(ds)"
      ],
      "execution_count": 0,
      "outputs": []
    },
    {
      "metadata": {
        "id": "_Yx1r3aUA3cl",
        "colab_type": "code",
        "colab": {}
      },
      "cell_type": "code",
      "source": [
        "train_ds = df_to_tfdata(train)"
      ],
      "execution_count": 0,
      "outputs": []
    },
    {
      "metadata": {
        "id": "xMZmn_D7A6xb",
        "colab_type": "code",
        "colab": {}
      },
      "cell_type": "code",
      "source": [
        "valid_ds = df_to_tfdata(valid, shuffle=False)"
      ],
      "execution_count": 0,
      "outputs": []
    },
    {
      "metadata": {
        "id": "4jDhKnQaBECj",
        "colab_type": "code",
        "colab": {}
      },
      "cell_type": "code",
      "source": [
        "test_ds = df_to_tfdata(test, shuffle=False)"
      ],
      "execution_count": 0,
      "outputs": []
    },
    {
      "metadata": {
        "id": "m6ImIPYQB_z0",
        "colab_type": "code",
        "outputId": "1f1888d7-2e87-4c5f-b83e-a7d3a9b7185a",
        "colab": {
          "base_uri": "https://localhost:8080/",
          "height": 400
        }
      },
      "cell_type": "code",
      "source": [
        "model.fit(train_ds,\n",
        "         validation_data = valid_ds,\n",
        "         epochs=3)"
      ],
      "execution_count": 34,
      "outputs": [
        {
          "output_type": "stream",
          "text": [
            "WARNING: Logging before flag parsing goes to stderr.\n",
            "W0417 05:51:15.009748 139748032468864 deprecation.py:323] From /usr/local/lib/python3.6/dist-packages/tensorflow/python/feature_column/feature_column_v2.py:2758: to_float (from tensorflow.python.ops.math_ops) is deprecated and will be removed in a future version.\n",
            "Instructions for updating:\n",
            "Use `tf.cast` instead.\n",
            "W0417 05:51:15.038071 139748032468864 deprecation.py:323] From /usr/local/lib/python3.6/dist-packages/tensorflow/python/ops/lookup_ops.py:1347: to_int64 (from tensorflow.python.ops.math_ops) is deprecated and will be removed in a future version.\n",
            "Instructions for updating:\n",
            "Use `tf.cast` instead.\n",
            "W0417 05:51:15.046977 139748032468864 deprecation.py:323] From /usr/local/lib/python3.6/dist-packages/tensorflow/python/feature_column/feature_column_v2.py:4307: IndicatorColumn._variable_shape (from tensorflow.python.feature_column.feature_column_v2) is deprecated and will be removed in a future version.\n",
            "Instructions for updating:\n",
            "The old _FeatureColumn APIs are being deprecated. Please use the new FeatureColumn APIs instead.\n",
            "W0417 05:51:15.048472 139748032468864 deprecation.py:323] From /usr/local/lib/python3.6/dist-packages/tensorflow/python/feature_column/feature_column_v2.py:4362: VocabularyListCategoricalColumn._num_buckets (from tensorflow.python.feature_column.feature_column_v2) is deprecated and will be removed in a future version.\n",
            "Instructions for updating:\n",
            "The old _FeatureColumn APIs are being deprecated. Please use the new FeatureColumn APIs instead.\n"
          ],
          "name": "stderr"
        },
        {
          "output_type": "stream",
          "text": [
            "Epoch 1/3\n",
            "931/931 [==============================] - 30s 33ms/step - loss: 0.6702 - accuracy: 0.5830 - val_loss: 0.6362 - val_accuracy: 0.6396\n",
            "Epoch 2/3\n",
            "931/931 [==============================] - 31s 34ms/step - loss: 0.6441 - accuracy: 0.6290 - val_loss: 0.6468 - val_accuracy: 0.6294\n",
            "Epoch 3/3\n",
            "931/931 [==============================] - 30s 32ms/step - loss: 0.6384 - accuracy: 0.6293 - val_loss: 0.6306 - val_accuracy: 0.6431\n"
          ],
          "name": "stdout"
        },
        {
          "output_type": "execute_result",
          "data": {
            "text/plain": [
              "<tensorflow.python.keras.callbacks.History at 0x7f19647c70f0>"
            ]
          },
          "metadata": {
            "tags": []
          },
          "execution_count": 34
        }
      ]
    },
    {
      "metadata": {
        "id": "9G9qs0mk45D6",
        "colab_type": "text"
      },
      "cell_type": "markdown",
      "source": [
        "For Tensorflow, your output should be like this.\n",
        "\n",
        "![](https://github.com/wshuyi/github_pub_img/raw/master/assets/2019-04-16-11-01-03-946707.png)\n"
      ]
    },
    {
      "metadata": {
        "id": "fsxkOXg147_7",
        "colab_type": "text"
      },
      "cell_type": "markdown",
      "source": [
        "For fast.ai, your output should be like this.\n",
        "\n",
        "![](https://github.com/wshuyi/github_pub_img/raw/master/assets/2019-04-16-11-01-03-947035.png)"
      ]
    },
    {
      "metadata": {
        "id": "9trOgZDr46Zk",
        "colab_type": "code",
        "outputId": "2a58f224-7ff3-4f46-e9da-6450c5ce14c8",
        "colab": {
          "base_uri": "https://localhost:8080/",
          "height": 308
        }
      },
      "cell_type": "code",
      "source": [
        "model.summary()"
      ],
      "execution_count": 35,
      "outputs": [
        {
          "output_type": "stream",
          "text": [
            "Model: \"sequential\"\n",
            "_________________________________________________________________\n",
            "Layer (type)                 Output Shape              Param #   \n",
            "=================================================================\n",
            "dense_features (DenseFeature multiple                  0         \n",
            "_________________________________________________________________\n",
            "dense (Dense)                multiple                  14200     \n",
            "_________________________________________________________________\n",
            "dense_1 (Dense)              multiple                  20100     \n",
            "_________________________________________________________________\n",
            "dense_2 (Dense)              multiple                  101       \n",
            "=================================================================\n",
            "Total params: 34,401\n",
            "Trainable params: 34,401\n",
            "Non-trainable params: 0\n",
            "_________________________________________________________________\n"
          ],
          "name": "stdout"
        }
      ]
    },
    {
      "metadata": {
        "id": "IKeyJgY1482V",
        "colab_type": "text"
      },
      "cell_type": "markdown",
      "source": [
        "**Question 6 (10 points).** Get predictions on your test set, and convert the results to 0 or 1s. Print out your predictions."
      ]
    },
    {
      "metadata": {
        "id": "ZgSpeRGu491q",
        "colab_type": "code",
        "outputId": "248832da-0066-4b28-b59c-8e9c48c866e1",
        "colab": {
          "base_uri": "https://localhost:8080/",
          "height": 53
        }
      },
      "cell_type": "code",
      "source": [
        "model.evaluate(test_ds)"
      ],
      "execution_count": 36,
      "outputs": [
        {
          "output_type": "stream",
          "text": [
            "291/291 [==============================] - 6s 20ms/step - loss: 0.6300 - accuracy: 0.6378\n"
          ],
          "name": "stdout"
        },
        {
          "output_type": "execute_result",
          "data": {
            "text/plain": [
              "[0.6299673684479035, 0.6378198]"
            ]
          },
          "metadata": {
            "tags": []
          },
          "execution_count": 36
        }
      ]
    },
    {
      "metadata": {
        "id": "oYFDQH3lD_M9",
        "colab_type": "code",
        "colab": {}
      },
      "cell_type": "code",
      "source": [
        "import numpy as np"
      ],
      "execution_count": 0,
      "outputs": []
    },
    {
      "metadata": {
        "id": "Js4Ec8KjDRKE",
        "colab_type": "code",
        "colab": {}
      },
      "cell_type": "code",
      "source": [
        "preds = model.predict(test_ds)"
      ],
      "execution_count": 0,
      "outputs": []
    },
    {
      "metadata": {
        "id": "2l5vdoopLAmD",
        "colab_type": "code",
        "outputId": "5a3c07be-abb8-4ab3-9137-e0995560e40d",
        "colab": {
          "base_uri": "https://localhost:8080/",
          "height": 144
        }
      },
      "cell_type": "code",
      "source": [
        "y_pred = (preds > 0.5).astype(np.float32)\n",
        "y_pred"
      ],
      "execution_count": 39,
      "outputs": [
        {
          "output_type": "execute_result",
          "data": {
            "text/plain": [
              "array([[1.],\n",
              "       [1.],\n",
              "       [0.],\n",
              "       ...,\n",
              "       [0.],\n",
              "       [0.],\n",
              "       [1.]], dtype=float32)"
            ]
          },
          "metadata": {
            "tags": []
          },
          "execution_count": 39
        }
      ]
    },
    {
      "metadata": {
        "id": "GMblyYqg4-UW",
        "colab_type": "text"
      },
      "cell_type": "markdown",
      "source": [
        "For Tensorflow, your output should be like this.\n",
        "\n",
        "![](https://github.com/wshuyi/github_pub_img/raw/master/assets/2019-04-16-11-01-03-947325.png)"
      ]
    },
    {
      "metadata": {
        "id": "OxP7ichS4_kA",
        "colab_type": "text"
      },
      "cell_type": "markdown",
      "source": [
        "For fast.ai, your output should be like this.\n",
        "\n",
        "![](https://github.com/wshuyi/github_pub_img/raw/master/assets/2019-04-16-11-01-03-947642.png)"
      ]
    },
    {
      "metadata": {
        "id": "deMc9OkI5AhN",
        "colab_type": "code",
        "colab": {}
      },
      "cell_type": "code",
      "source": [
        ""
      ],
      "execution_count": 0,
      "outputs": []
    },
    {
      "metadata": {
        "id": "p0rfGsZF5CQ5",
        "colab_type": "text"
      },
      "cell_type": "markdown",
      "source": [
        "**Question 7 (10 points).** Use the `classification_report` function from `sklearn.metrics` to make a classification report."
      ]
    },
    {
      "metadata": {
        "id": "t5Fi5Lya5DZp",
        "colab_type": "code",
        "colab": {}
      },
      "cell_type": "code",
      "source": [
        "from sklearn import metrics"
      ],
      "execution_count": 0,
      "outputs": []
    },
    {
      "metadata": {
        "id": "t0Wg_pDhMrU3",
        "colab_type": "code",
        "colab": {}
      },
      "cell_type": "code",
      "source": [
        "y_test = test.safe_loans.values.astype(np.float32)"
      ],
      "execution_count": 0,
      "outputs": []
    },
    {
      "metadata": {
        "id": "MQF8fPUC3Vzm",
        "colab_type": "code",
        "colab": {
          "base_uri": "https://localhost:8080/",
          "height": 35
        },
        "outputId": "cb0a8e9e-ccd9-4739-c9fa-d65d1153e4b5"
      },
      "cell_type": "code",
      "source": [
        "y_test"
      ],
      "execution_count": 43,
      "outputs": [
        {
          "output_type": "execute_result",
          "data": {
            "text/plain": [
              "array([1., 0., 1., ..., 1., 0., 1.], dtype=float32)"
            ]
          },
          "metadata": {
            "tags": []
          },
          "execution_count": 43
        }
      ]
    },
    {
      "metadata": {
        "id": "1VM7d9CzLnlI",
        "colab_type": "code",
        "colab": {
          "base_uri": "https://localhost:8080/",
          "height": 35
        },
        "outputId": "fe2a427e-5a07-4b39-e626-ac9d0c4e6538"
      },
      "cell_type": "code",
      "source": [
        "metrics.accuracy_score(y_test, y_pred)"
      ],
      "execution_count": 44,
      "outputs": [
        {
          "output_type": "execute_result",
          "data": {
            "text/plain": [
              "0.6378198236938293"
            ]
          },
          "metadata": {
            "tags": []
          },
          "execution_count": 44
        }
      ]
    },
    {
      "metadata": {
        "id": "JGX1xXt93b69",
        "colab_type": "code",
        "colab": {
          "base_uri": "https://localhost:8080/",
          "height": 181
        },
        "outputId": "07ef9d14-d454-407e-e522-f40eb1142297"
      },
      "cell_type": "code",
      "source": [
        "print(metrics.classification_report(y_test, y_pred))"
      ],
      "execution_count": 46,
      "outputs": [
        {
          "output_type": "stream",
          "text": [
            "              precision    recall  f1-score   support\n",
            "\n",
            "         0.0       0.64      0.64      0.64      4692\n",
            "         1.0       0.63      0.64      0.64      4610\n",
            "\n",
            "   micro avg       0.64      0.64      0.64      9302\n",
            "   macro avg       0.64      0.64      0.64      9302\n",
            "weighted avg       0.64      0.64      0.64      9302\n",
            "\n"
          ],
          "name": "stdout"
        }
      ]
    },
    {
      "metadata": {
        "id": "frXmDsb35Dsc",
        "colab_type": "text"
      },
      "cell_type": "markdown",
      "source": [
        "You should get something like this:\n",
        "\n",
        "\n",
        "![](https://github.com/wshuyi/github_pub_img/raw/master/assets/2019-04-16-11-01-03-948014.png)"
      ]
    },
    {
      "metadata": {
        "id": "cZPoivKZ5Eue",
        "colab_type": "code",
        "colab": {}
      },
      "cell_type": "code",
      "source": [
        ""
      ],
      "execution_count": 0,
      "outputs": []
    },
    {
      "metadata": {
        "id": "x4C07JWW5FIw",
        "colab_type": "text"
      },
      "cell_type": "markdown",
      "source": [
        "**Question 8 (10 points).** Make a confusion matrix based on your predictions on test dataset."
      ]
    },
    {
      "metadata": {
        "id": "x1W65d8P5GCJ",
        "colab_type": "code",
        "colab": {}
      },
      "cell_type": "code",
      "source": [
        "from sklearn.metrics import confusion_matrix"
      ],
      "execution_count": 0,
      "outputs": []
    },
    {
      "metadata": {
        "id": "Hls6NTlw3-VK",
        "colab_type": "code",
        "colab": {
          "base_uri": "https://localhost:8080/",
          "height": 53
        },
        "outputId": "4a8b6c3e-58de-4995-efca-8d8c8404dfa9"
      },
      "cell_type": "code",
      "source": [
        "confusion_matrix(y_test, y_pred)"
      ],
      "execution_count": 48,
      "outputs": [
        {
          "output_type": "execute_result",
          "data": {
            "text/plain": [
              "array([[3000, 1692],\n",
              "       [1677, 2933]])"
            ]
          },
          "metadata": {
            "tags": []
          },
          "execution_count": 48
        }
      ]
    },
    {
      "metadata": {
        "id": "DlBuYpwJ5GbC",
        "colab_type": "text"
      },
      "cell_type": "markdown",
      "source": [
        "You should get something like this:\n",
        "\n",
        "![](https://github.com/wshuyi/github_pub_img/raw/master/assets/2019-04-16-11-01-03-948319.png)"
      ]
    },
    {
      "metadata": {
        "id": "6PoFAUSz5HYa",
        "colab_type": "code",
        "colab": {}
      },
      "cell_type": "code",
      "source": [
        ""
      ],
      "execution_count": 0,
      "outputs": []
    }
  ]
}