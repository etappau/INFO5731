{
  "nbformat": 4,
  "nbformat_minor": 0,
  "metadata": {
    "colab": {
      "name": "Paul_selfstudy9.ipynb",
      "version": "0.3.2",
      "provenance": [],
      "collapsed_sections": [],
      "include_colab_link": true
    },
    "kernelspec": {
      "name": "python3",
      "display_name": "Python 3"
    }
  },
  "cells": [
    {
      "cell_type": "markdown",
      "metadata": {
        "id": "view-in-github",
        "colab_type": "text"
      },
      "source": [
        "<a href=\"https://colab.research.google.com/github/etappau/info5731/blob/master/Paul_selfstudy9.ipynb\" target=\"_parent\"><img src=\"https://colab.research.google.com/assets/colab-badge.svg\" alt=\"Open In Colab\"/></a>"
      ]
    },
    {
      "metadata": {
        "id": "-esksYv69RW_",
        "colab_type": "text"
      },
      "cell_type": "markdown",
      "source": [
        "Chapter 5"
      ]
    },
    {
      "metadata": {
        "id": "Tpu1RT86GK5X",
        "colab_type": "code",
        "colab": {}
      },
      "cell_type": "code",
      "source": [
        "import re, math, random # regexes, math functions, random numbers\n",
        "import matplotlib.pyplot as plt # pyplot\n",
        "from collections import defaultdict, Counter\n",
        "from functools import partial, reduce\n",
        "\n",
        "#\n",
        "# functions for working with vectors\n",
        "#\n",
        "\n",
        "def vector_add(v, w):\n",
        "    \"\"\"adds two vectors componentwise\"\"\"\n",
        "    return [v_i + w_i for v_i, w_i in zip(v,w)]\n",
        "\n",
        "def vector_subtract(v, w):\n",
        "    \"\"\"subtracts two vectors componentwise\"\"\"\n",
        "    return [v_i - w_i for v_i, w_i in zip(v,w)]\n",
        "\n",
        "def vector_sum(vectors):\n",
        "    return reduce(vector_add, vectors)\n",
        "\n",
        "def scalar_multiply(c, v):\n",
        "    return [c * v_i for v_i in v]\n",
        "\n",
        "def vector_mean(vectors):\n",
        "    \"\"\"compute the vector whose i-th element is the mean of the\n",
        "    i-th elements of the input vectors\"\"\"\n",
        "    n = len(vectors)\n",
        "    return scalar_multiply(1/n, vector_sum(vectors))\n",
        "\n",
        "def dot(v, w):\n",
        "    \"\"\"v_1 * w_1 + ... + v_n * w_n\"\"\"\n",
        "    return sum(v_i * w_i for v_i, w_i in zip(v, w))\n",
        "\n",
        "def sum_of_squares(v):\n",
        "    \"\"\"v_1 * v_1 + ... + v_n * v_n\"\"\"\n",
        "    return dot(v, v)\n",
        "\n",
        "def magnitude(v):\n",
        "    return math.sqrt(sum_of_squares(v))\n",
        "\n",
        "def squared_distance(v, w):\n",
        "    return sum_of_squares(vector_subtract(v, w))\n",
        "\n",
        "def distance(v, w):\n",
        "   return math.sqrt(squared_distance(v, w))\n",
        "\n",
        "#\n",
        "# functions for working with matrices\n",
        "#\n",
        "\n",
        "def shape(A):\n",
        "    num_rows = len(A)\n",
        "    num_cols = len(A[0]) if A else 0\n",
        "    return num_rows, num_cols\n",
        "\n",
        "def get_row(A, i):\n",
        "    return A[i]\n",
        "\n",
        "def get_column(A, j):\n",
        "    return [A_i[j] for A_i in A]\n",
        "\n",
        "def make_matrix(num_rows, num_cols, entry_fn):\n",
        "    \"\"\"returns a num_rows x num_cols matrix\n",
        "    whose (i,j)-th entry is entry_fn(i, j)\"\"\"\n",
        "    return [[entry_fn(i, j) for j in range(num_cols)]\n",
        "            for i in range(num_rows)]\n",
        "\n",
        "def is_diagonal(i, j):\n",
        "    \"\"\"1's on the 'diagonal', 0's everywhere else\"\"\"\n",
        "    return 1 if i == j else 0\n",
        "\n",
        "identity_matrix = make_matrix(5, 5, is_diagonal)\n",
        "\n",
        "#          user 0  1  2  3  4  5  6  7  8  9\n",
        "#\n",
        "friendships = [[0, 1, 1, 0, 0, 0, 0, 0, 0, 0], # user 0\n",
        "               [1, 0, 1, 1, 0, 0, 0, 0, 0, 0], # user 1\n",
        "               [1, 1, 0, 1, 0, 0, 0, 0, 0, 0], # user 2\n",
        "               [0, 1, 1, 0, 1, 0, 0, 0, 0, 0], # user 3\n",
        "               [0, 0, 0, 1, 0, 1, 0, 0, 0, 0], # user 4\n",
        "               [0, 0, 0, 0, 1, 0, 1, 1, 0, 0], # user 5\n",
        "               [0, 0, 0, 0, 0, 1, 0, 0, 1, 0], # user 6\n",
        "               [0, 0, 0, 0, 0, 1, 0, 0, 1, 0], # user 7\n",
        "               [0, 0, 0, 0, 0, 0, 1, 1, 0, 1], # user 8\n",
        "               [0, 0, 0, 0, 0, 0, 0, 0, 1, 0]] # user 9\n",
        "\n",
        "#####\n",
        "# DELETE DOWN\n",
        "#\n",
        "\n",
        "\n",
        "def matrix_add(A, B):\n",
        "    if shape(A) != shape(B):\n",
        "        raise ArithmeticError(\"cannot add matrices with different shapes\")\n",
        "\n",
        "    num_rows, num_cols = shape(A)\n",
        "    def entry_fn(i, j): return A[i][j] + B[i][j]\n",
        "\n",
        "    return make_matrix(num_rows, num_cols, entry_fn)\n",
        "\n",
        "\n",
        "def make_graph_dot_product_as_vector_projection(plt):\n",
        "\n",
        "    v = [2, 1]\n",
        "    w = [math.sqrt(.25), math.sqrt(.75)]\n",
        "    c = dot(v, w)\n",
        "    vonw = scalar_multiply(c, w)\n",
        "    o = [0,0]\n",
        "\n",
        "    plt.arrow(0, 0, v[0], v[1],\n",
        "              width=0.002, head_width=.1, length_includes_head=True)\n",
        "    plt.annotate(\"v\", v, xytext=[v[0] + 0.1, v[1]])\n",
        "    plt.arrow(0 ,0, w[0], w[1],\n",
        "              width=0.002, head_width=.1, length_includes_head=True)\n",
        "    plt.annotate(\"w\", w, xytext=[w[0] - 0.1, w[1]])\n",
        "    plt.arrow(0, 0, vonw[0], vonw[1], length_includes_head=True)\n",
        "    plt.annotate(u\"(v•w)w\", vonw, xytext=[vonw[0] - 0.1, vonw[1] + 0.1])\n",
        "    plt.arrow(v[0], v[1], vonw[0] - v[0], vonw[1] - v[1],\n",
        "              linestyle='dotted', length_includes_head=True)\n",
        "    plt.scatter(*zip(v,w,o),marker='.')\n",
        "    plt.axis('equal')\n",
        "plt.show()"
      ],
      "execution_count": 0,
      "outputs": []
    },
    {
      "metadata": {
        "id": "qDdJoWXz9WLw",
        "colab_type": "code",
        "colab": {}
      },
      "cell_type": "code",
      "source": [
        "num_friends = [100,49,41,40,25,21,21,19,19,18,18,16,15,15,15,15,14,14,13,13,13,13,12,12,11,10,10,10,10,10,10,10,10,10,10,10,10,10,10,10,9,9,9,9,9,9,9,9,9,9,9,9,9,9,9,9,9,9,8,8,8,8,8,8,8,8,8,8,8,8,8,7,7,7,7,7,7,7,7,7,7,7,7,7,7,7,6,6,6,6,6,6,6,6,6,6,6,6,6,6,6,6,6,6,6,6,6,6,5,5,5,5,5,5,5,5,5,5,5,5,5,5,5,5,5,4,4,4,4,4,4,4,4,4,4,4,4,4,4,4,4,4,4,4,4,3,3,3,3,3,3,3,3,3,3,3,3,3,3,3,3,3,3,3,3,2,2,2,2,2,2,2,2,2,2,2,2,2,2,2,2,2,1,1,1,1,1,1,1,1,1,1,1,1,1,1,1,1,1,1,1,1,1,1]"
      ],
      "execution_count": 0,
      "outputs": []
    },
    {
      "metadata": {
        "id": "__-FRkIs-_WR",
        "colab_type": "code",
        "outputId": "bc0f9590-07e5-4841-d675-95a2bd0037eb",
        "colab": {
          "base_uri": "https://localhost:8080/",
          "height": 376
        }
      },
      "cell_type": "code",
      "source": [
        "import collections\n",
        "import matplotlib.pyplot as plt\n",
        "\n",
        "friend_counts = collections.Counter(num_friends)\n",
        "xs = range(101) # largest value is 100\n",
        "ys = [friend_counts[x] for x in xs] # height is just # of friends\n",
        "plt.bar(xs, ys)\n",
        "plt.axis([0, 101, 0, 25])\n",
        "plt.title(\"Histogram of Friend Counts\")\n",
        "plt.xlabel(\"# of friends\")\n",
        "plt.ylabel(\"# of people\")\n",
        "plt.show()"
      ],
      "execution_count": 0,
      "outputs": [
        {
          "output_type": "display_data",
          "data": {
            "image/png": "[encoded data removed]",
            "text/plain": [
              "<Figure size 576x396 with 1 Axes>"
            ]
          },
          "metadata": {
            "tags": []
          }
        }
      ]
    },
    {
      "metadata": {
        "id": "dn5oJFY-_Fw0",
        "colab_type": "code",
        "outputId": "6d7d7b51-6afb-4b1b-f7b9-719e71d2c0d5",
        "colab": {
          "base_uri": "https://localhost:8080/",
          "height": 35
        }
      },
      "cell_type": "code",
      "source": [
        "num_points = len(num_friends)\n",
        "num_points"
      ],
      "execution_count": 0,
      "outputs": [
        {
          "output_type": "execute_result",
          "data": {
            "text/plain": [
              "204"
            ]
          },
          "metadata": {
            "tags": []
          },
          "execution_count": 61
        }
      ]
    },
    {
      "metadata": {
        "id": "jbRDfm2vAFVB",
        "colab_type": "code",
        "colab": {}
      },
      "cell_type": "code",
      "source": [
        "largest_value = max(num_friends) \n",
        "smallest_value = min(num_friends)"
      ],
      "execution_count": 0,
      "outputs": []
    },
    {
      "metadata": {
        "id": "-oJa8JBAAJBB",
        "colab_type": "code",
        "outputId": "cea8ab13-0720-4020-d774-121281dc9225",
        "colab": {
          "base_uri": "https://localhost:8080/",
          "height": 35
        }
      },
      "cell_type": "code",
      "source": [
        "largest_value"
      ],
      "execution_count": 0,
      "outputs": [
        {
          "output_type": "execute_result",
          "data": {
            "text/plain": [
              "100"
            ]
          },
          "metadata": {
            "tags": []
          },
          "execution_count": 63
        }
      ]
    },
    {
      "metadata": {
        "id": "8X352viUALCn",
        "colab_type": "code",
        "outputId": "34b93689-7fe0-4ec4-e0a2-1840ff50c7d5",
        "colab": {
          "base_uri": "https://localhost:8080/",
          "height": 35
        }
      },
      "cell_type": "code",
      "source": [
        "smallest_value"
      ],
      "execution_count": 0,
      "outputs": [
        {
          "output_type": "execute_result",
          "data": {
            "text/plain": [
              "1"
            ]
          },
          "metadata": {
            "tags": []
          },
          "execution_count": 64
        }
      ]
    },
    {
      "metadata": {
        "id": "9YIFw0TzANrg",
        "colab_type": "code",
        "colab": {}
      },
      "cell_type": "code",
      "source": [
        "sorted_values = sorted(num_friends)\n",
        "smallest_value = sorted_values[0] \n",
        "second_smallest_value = sorted_values[1] \n",
        "second_largest_value = sorted_values[-2]"
      ],
      "execution_count": 0,
      "outputs": []
    },
    {
      "metadata": {
        "id": "xRK5bqFEASqp",
        "colab_type": "code",
        "outputId": "9aab83ea-742c-4bf6-b7aa-ad28f27b8090",
        "colab": {
          "base_uri": "https://localhost:8080/",
          "height": 35
        }
      },
      "cell_type": "code",
      "source": [
        "second_smallest_value"
      ],
      "execution_count": 0,
      "outputs": [
        {
          "output_type": "execute_result",
          "data": {
            "text/plain": [
              "1"
            ]
          },
          "metadata": {
            "tags": []
          },
          "execution_count": 66
        }
      ]
    },
    {
      "metadata": {
        "id": "Kbqu9MDxAa-L",
        "colab_type": "code",
        "outputId": "01fa9274-067e-4fb7-8da8-67637619454c",
        "colab": {
          "base_uri": "https://localhost:8080/",
          "height": 35
        }
      },
      "cell_type": "code",
      "source": [
        "def mean(x):\n",
        "  return sum(x) / len(x)\n",
        "mean(num_friends)"
      ],
      "execution_count": 0,
      "outputs": [
        {
          "output_type": "execute_result",
          "data": {
            "text/plain": [
              "7.333333333333333"
            ]
          },
          "metadata": {
            "tags": []
          },
          "execution_count": 67
        }
      ]
    },
    {
      "metadata": {
        "id": "U6CyPlciAepX",
        "colab_type": "code",
        "outputId": "e408ed5d-6a16-416d-f0e8-9cfb8857fcb2",
        "colab": {
          "base_uri": "https://localhost:8080/",
          "height": 35
        }
      },
      "cell_type": "code",
      "source": [
        "def median(v):\n",
        "  \"\"\"finds the 'middle-most' value of v\"\"\"\n",
        "  n = len(v)\n",
        "  sorted_v = sorted(v)\n",
        "  midpoint = n // 2\n",
        "  if n % 2 == 1:\n",
        "    return sorted_v[midpoint]\n",
        "  else:\n",
        "    lo = midpoint - 1\n",
        "    hi = midpoint\n",
        "    return (sorted_v[lo] + sorted_v[hi]) / 2\n",
        "median(num_friends)"
      ],
      "execution_count": 0,
      "outputs": [
        {
          "output_type": "execute_result",
          "data": {
            "text/plain": [
              "6.0"
            ]
          },
          "metadata": {
            "tags": []
          },
          "execution_count": 68
        }
      ]
    },
    {
      "metadata": {
        "id": "9GUz4hmAAklv",
        "colab_type": "code",
        "colab": {}
      },
      "cell_type": "code",
      "source": [
        "def quantile(x, p):\n",
        "  \"\"\"returns the pth-percentile value in x\"\"\"\n",
        "  p_index = int(p * len(x))\n",
        "  return sorted(x)[p_index]"
      ],
      "execution_count": 0,
      "outputs": []
    },
    {
      "metadata": {
        "id": "j0MfsFxoAy9Y",
        "colab_type": "code",
        "outputId": "765c8fa7-4fed-4e39-fe7a-be1b516ffae6",
        "colab": {
          "base_uri": "https://localhost:8080/",
          "height": 35
        }
      },
      "cell_type": "code",
      "source": [
        "quantile(num_friends, 0.10)"
      ],
      "execution_count": 0,
      "outputs": [
        {
          "output_type": "execute_result",
          "data": {
            "text/plain": [
              "1"
            ]
          },
          "metadata": {
            "tags": []
          },
          "execution_count": 70
        }
      ]
    },
    {
      "metadata": {
        "id": "dZGS0GzvBDaE",
        "colab_type": "code",
        "outputId": "084e317d-923b-47de-df99-fd0129f70396",
        "colab": {
          "base_uri": "https://localhost:8080/",
          "height": 35
        }
      },
      "cell_type": "code",
      "source": [
        "quantile(num_friends, 0.25)"
      ],
      "execution_count": 0,
      "outputs": [
        {
          "output_type": "execute_result",
          "data": {
            "text/plain": [
              "3"
            ]
          },
          "metadata": {
            "tags": []
          },
          "execution_count": 71
        }
      ]
    },
    {
      "metadata": {
        "id": "boxfvPMrBGqR",
        "colab_type": "code",
        "outputId": "1f74eccd-a7fb-4956-b5e3-7eb49a03c577",
        "colab": {
          "base_uri": "https://localhost:8080/",
          "height": 35
        }
      },
      "cell_type": "code",
      "source": [
        "quantile(num_friends, 0.75)"
      ],
      "execution_count": 0,
      "outputs": [
        {
          "output_type": "execute_result",
          "data": {
            "text/plain": [
              "9"
            ]
          },
          "metadata": {
            "tags": []
          },
          "execution_count": 72
        }
      ]
    },
    {
      "metadata": {
        "id": "pJhHLyNRBJwv",
        "colab_type": "code",
        "outputId": "67a012c6-c5b1-4cbc-c93b-f0f581a4cc23",
        "colab": {
          "base_uri": "https://localhost:8080/",
          "height": 35
        }
      },
      "cell_type": "code",
      "source": [
        "quantile(num_friends, 0.90)"
      ],
      "execution_count": 0,
      "outputs": [
        {
          "output_type": "execute_result",
          "data": {
            "text/plain": [
              "13"
            ]
          },
          "metadata": {
            "tags": []
          },
          "execution_count": 73
        }
      ]
    },
    {
      "metadata": {
        "id": "uYqu3IZFBM8O",
        "colab_type": "code",
        "outputId": "50605e8a-cb02-4499-c9bf-6f5cad943771",
        "colab": {
          "base_uri": "https://localhost:8080/",
          "height": 35
        }
      },
      "cell_type": "code",
      "source": [
        "import collections\n",
        "\n",
        "def mode(x):\n",
        "  \"\"\"returns a list, might be more than one mode\"\"\"\n",
        "  counts = collections.Counter(x)\n",
        "  max_count = max(counts.values())\n",
        "  return [x_i for x_i, count in counts.items()\n",
        "          if count == max_count]\n",
        "mode(num_friends)"
      ],
      "execution_count": 0,
      "outputs": [
        {
          "output_type": "execute_result",
          "data": {
            "text/plain": [
              "[6, 1]"
            ]
          },
          "metadata": {
            "tags": []
          },
          "execution_count": 74
        }
      ]
    },
    {
      "metadata": {
        "id": "U6VtwlozBQz0",
        "colab_type": "code",
        "outputId": "f61bc78b-d933-47ed-9bcc-6517b92f1c4d",
        "colab": {
          "base_uri": "https://localhost:8080/",
          "height": 35
        }
      },
      "cell_type": "code",
      "source": [
        "def data_range(x):\n",
        "  return max(x) - min(x)\n",
        "data_range(num_friends)"
      ],
      "execution_count": 0,
      "outputs": [
        {
          "output_type": "execute_result",
          "data": {
            "text/plain": [
              "99"
            ]
          },
          "metadata": {
            "tags": []
          },
          "execution_count": 75
        }
      ]
    },
    {
      "metadata": {
        "id": "pNF595vbBUwG",
        "colab_type": "code",
        "colab": {}
      },
      "cell_type": "code",
      "source": [
        "def de_mean(x):\n",
        "  \"\"\"translate x by subtracting its mean (so the result has mean 0)\"\"\"\n",
        "  x_bar = mean(x)\n",
        "  return [x_i - x_bar for x_i in x]"
      ],
      "execution_count": 0,
      "outputs": []
    },
    {
      "metadata": {
        "id": "vneUfMGDIVMM",
        "colab_type": "code",
        "outputId": "2f74f066-48f0-400f-9dea-0a847b989de2",
        "colab": {
          "base_uri": "https://localhost:8080/",
          "height": 3723
        }
      },
      "cell_type": "code",
      "source": [
        "de_mean(num_friends)"
      ],
      "execution_count": 0,
      "outputs": [
        {
          "output_type": "execute_result",
          "data": {
            "text/plain": [
              "[92.66666666666667,\n",
              " 41.666666666666664,\n",
              " 33.666666666666664,\n",
              " 32.666666666666664,\n",
              " 17.666666666666668,\n",
              " 13.666666666666668,\n",
              " 13.666666666666668,\n",
              " 11.666666666666668,\n",
              " 11.666666666666668,\n",
              " 10.666666666666668,\n",
              " 10.666666666666668,\n",
              " 8.666666666666668,\n",
              " 7.666666666666667,\n",
              " 7.666666666666667,\n",
              " 7.666666666666667,\n",
              " 7.666666666666667,\n",
              " 6.666666666666667,\n",
              " 6.666666666666667,\n",
              " 5.666666666666667,\n",
              " 5.666666666666667,\n",
              " 5.666666666666667,\n",
              " 5.666666666666667,\n",
              " 4.666666666666667,\n",
              " 4.666666666666667,\n",
              " 3.666666666666667,\n",
              " 2.666666666666667,\n",
              " 2.666666666666667,\n",
              " 2.666666666666667,\n",
              " 2.666666666666667,\n",
              " 2.666666666666667,\n",
              " 2.666666666666667,\n",
              " 2.666666666666667,\n",
              " 2.666666666666667,\n",
              " 2.666666666666667,\n",
              " 2.666666666666667,\n",
              " 2.666666666666667,\n",
              " 2.666666666666667,\n",
              " 2.666666666666667,\n",
              " 2.666666666666667,\n",
              " 2.666666666666667,\n",
              " 1.666666666666667,\n",
              " 1.666666666666667,\n",
              " 1.666666666666667,\n",
              " 1.666666666666667,\n",
              " 1.666666666666667,\n",
              " 1.666666666666667,\n",
              " 1.666666666666667,\n",
              " 1.666666666666667,\n",
              " 1.666666666666667,\n",
              " 1.666666666666667,\n",
              " 1.666666666666667,\n",
              " 1.666666666666667,\n",
              " 1.666666666666667,\n",
              " 1.666666666666667,\n",
              " 1.666666666666667,\n",
              " 1.666666666666667,\n",
              " 1.666666666666667,\n",
              " 1.666666666666667,\n",
              " 0.666666666666667,\n",
              " 0.666666666666667,\n",
              " 0.666666666666667,\n",
              " 0.666666666666667,\n",
              " 0.666666666666667,\n",
              " 0.666666666666667,\n",
              " 0.666666666666667,\n",
              " 0.666666666666667,\n",
              " 0.666666666666667,\n",
              " 0.666666666666667,\n",
              " 0.666666666666667,\n",
              " 0.666666666666667,\n",
              " 0.666666666666667,\n",
              " -0.33333333333333304,\n",
              " -0.33333333333333304,\n",
              " -0.33333333333333304,\n",
              " -0.33333333333333304,\n",
              " -0.33333333333333304,\n",
              " -0.33333333333333304,\n",
              " -0.33333333333333304,\n",
              " -0.33333333333333304,\n",
              " -0.33333333333333304,\n",
              " -0.33333333333333304,\n",
              " -0.33333333333333304,\n",
              " -0.33333333333333304,\n",
              " -0.33333333333333304,\n",
              " -0.33333333333333304,\n",
              " -0.33333333333333304,\n",
              " -1.333333333333333,\n",
              " -1.333333333333333,\n",
              " -1.333333333333333,\n",
              " -1.333333333333333,\n",
              " -1.333333333333333,\n",
              " -1.333333333333333,\n",
              " -1.333333333333333,\n",
              " -1.333333333333333,\n",
              " -1.333333333333333,\n",
              " -1.333333333333333,\n",
              " -1.333333333333333,\n",
              " -1.333333333333333,\n",
              " -1.333333333333333,\n",
              " -1.333333333333333,\n",
              " -1.333333333333333,\n",
              " -1.333333333333333,\n",
              " -1.333333333333333,\n",
              " -1.333333333333333,\n",
              " -1.333333333333333,\n",
              " -1.333333333333333,\n",
              " -1.333333333333333,\n",
              " -1.333333333333333,\n",
              " -2.333333333333333,\n",
              " -2.333333333333333,\n",
              " -2.333333333333333,\n",
              " -2.333333333333333,\n",
              " -2.333333333333333,\n",
              " -2.333333333333333,\n",
              " -2.333333333333333,\n",
              " -2.333333333333333,\n",
              " -2.333333333333333,\n",
              " -2.333333333333333,\n",
              " -2.333333333333333,\n",
              " -2.333333333333333,\n",
              " -2.333333333333333,\n",
              " -2.333333333333333,\n",
              " -2.333333333333333,\n",
              " -2.333333333333333,\n",
              " -2.333333333333333,\n",
              " -3.333333333333333,\n",
              " -3.333333333333333,\n",
              " -3.333333333333333,\n",
              " -3.333333333333333,\n",
              " -3.333333333333333,\n",
              " -3.333333333333333,\n",
              " -3.333333333333333,\n",
              " -3.333333333333333,\n",
              " -3.333333333333333,\n",
              " -3.333333333333333,\n",
              " -3.333333333333333,\n",
              " -3.333333333333333,\n",
              " -3.333333333333333,\n",
              " -3.333333333333333,\n",
              " -3.333333333333333,\n",
              " -3.333333333333333,\n",
              " -3.333333333333333,\n",
              " -3.333333333333333,\n",
              " -3.333333333333333,\n",
              " -3.333333333333333,\n",
              " -4.333333333333333,\n",
              " -4.333333333333333,\n",
              " -4.333333333333333,\n",
              " -4.333333333333333,\n",
              " -4.333333333333333,\n",
              " -4.333333333333333,\n",
              " -4.333333333333333,\n",
              " -4.333333333333333,\n",
              " -4.333333333333333,\n",
              " -4.333333333333333,\n",
              " -4.333333333333333,\n",
              " -4.333333333333333,\n",
              " -4.333333333333333,\n",
              " -4.333333333333333,\n",
              " -4.333333333333333,\n",
              " -4.333333333333333,\n",
              " -4.333333333333333,\n",
              " -4.333333333333333,\n",
              " -4.333333333333333,\n",
              " -4.333333333333333,\n",
              " -5.333333333333333,\n",
              " -5.333333333333333,\n",
              " -5.333333333333333,\n",
              " -5.333333333333333,\n",
              " -5.333333333333333,\n",
              " -5.333333333333333,\n",
              " -5.333333333333333,\n",
              " -5.333333333333333,\n",
              " -5.333333333333333,\n",
              " -5.333333333333333,\n",
              " -5.333333333333333,\n",
              " -5.333333333333333,\n",
              " -5.333333333333333,\n",
              " -5.333333333333333,\n",
              " -5.333333333333333,\n",
              " -5.333333333333333,\n",
              " -5.333333333333333,\n",
              " -6.333333333333333,\n",
              " -6.333333333333333,\n",
              " -6.333333333333333,\n",
              " -6.333333333333333,\n",
              " -6.333333333333333,\n",
              " -6.333333333333333,\n",
              " -6.333333333333333,\n",
              " -6.333333333333333,\n",
              " -6.333333333333333,\n",
              " -6.333333333333333,\n",
              " -6.333333333333333,\n",
              " -6.333333333333333,\n",
              " -6.333333333333333,\n",
              " -6.333333333333333,\n",
              " -6.333333333333333,\n",
              " -6.333333333333333,\n",
              " -6.333333333333333,\n",
              " -6.333333333333333,\n",
              " -6.333333333333333,\n",
              " -6.333333333333333,\n",
              " -6.333333333333333,\n",
              " -6.333333333333333]"
            ]
          },
          "metadata": {
            "tags": []
          },
          "execution_count": 78
        }
      ]
    },
    {
      "metadata": {
        "id": "x57eC60aBYIc",
        "colab_type": "code",
        "outputId": "aead2fda-ea47-4333-8d9e-5d150b977696",
        "colab": {
          "base_uri": "https://localhost:8080/",
          "height": 35
        }
      },
      "cell_type": "code",
      "source": [
        "def variance(x):\n",
        "  \"\"\"assumes x has at least two elements\"\"\"\n",
        "  n = len(x)\n",
        "  deviations = de_mean(x)\n",
        "  return sum_of_squares(deviations) / (n - 1)\n",
        "variance(num_friends) # 81.54"
      ],
      "execution_count": 0,
      "outputs": [
        {
          "output_type": "execute_result",
          "data": {
            "text/plain": [
              "81.54351395730716"
            ]
          },
          "metadata": {
            "tags": []
          },
          "execution_count": 77
        }
      ]
    },
    {
      "metadata": {
        "id": "8CTtZwaaISyV",
        "colab_type": "code",
        "outputId": "6f31109b-0cfe-42b6-d1b4-5fbc60436b0d",
        "colab": {
          "base_uri": "https://localhost:8080/",
          "height": 35
        }
      },
      "cell_type": "code",
      "source": [
        "import math\n",
        "\n",
        "def standard_deviation(x):\n",
        "  return math.sqrt(variance(x))\n",
        "standard_deviation(num_friends)"
      ],
      "execution_count": 0,
      "outputs": [
        {
          "output_type": "execute_result",
          "data": {
            "text/plain": [
              "9.03014473623248"
            ]
          },
          "metadata": {
            "tags": []
          },
          "execution_count": 79
        }
      ]
    },
    {
      "metadata": {
        "id": "cURoic1tId3g",
        "colab_type": "code",
        "outputId": "b42bf0d9-eb1e-4a73-f6f1-b34e84b4b7e8",
        "colab": {
          "base_uri": "https://localhost:8080/",
          "height": 35
        }
      },
      "cell_type": "code",
      "source": [
        "def interquartile_range(x):\n",
        "  return quantile(x, 0.75) - quantile(x, 0.25)\n",
        "interquartile_range(num_friends)"
      ],
      "execution_count": 0,
      "outputs": [
        {
          "output_type": "execute_result",
          "data": {
            "text/plain": [
              "6"
            ]
          },
          "metadata": {
            "tags": []
          },
          "execution_count": 80
        }
      ]
    },
    {
      "metadata": {
        "id": "YnfuU1vUIxws",
        "colab_type": "code",
        "colab": {}
      },
      "cell_type": "code",
      "source": [
        "####\n",
        "#\n",
        "# CORRELATION\n",
        "#\n",
        "#####\n",
        "\n",
        "daily_minutes = [1,68.77,51.25,52.08,38.36,44.54,57.13,51.4,41.42,31.22,34.76,54.01,38.79,47.59,49.1,27.66,41.03,36.73,48.65,28.12,46.62,35.57,32.98,35,26.07,23.77,39.73,40.57,31.65,31.21,36.32,20.45,21.93,26.02,27.34,23.49,46.94,30.5,33.8,24.23,21.4,27.94,32.24,40.57,25.07,19.42,22.39,18.42,46.96,23.72,26.41,26.97,36.76,40.32,35.02,29.47,30.2,31,38.11,38.18,36.31,21.03,30.86,36.07,28.66,29.08,37.28,15.28,24.17,22.31,30.17,25.53,19.85,35.37,44.6,17.23,13.47,26.33,35.02,32.09,24.81,19.33,28.77,24.26,31.98,25.73,24.86,16.28,34.51,15.23,39.72,40.8,26.06,35.76,34.76,16.13,44.04,18.03,19.65,32.62,35.59,39.43,14.18,35.24,40.13,41.82,35.45,36.07,43.67,24.61,20.9,21.9,18.79,27.61,27.21,26.61,29.77,20.59,27.53,13.82,33.2,25,33.1,36.65,18.63,14.87,22.2,36.81,25.53,24.62,26.25,18.21,28.08,19.42,29.79,32.8,35.99,28.32,27.79,35.88,29.06,36.28,14.1,36.63,37.49,26.9,18.58,38.48,24.48,18.95,33.55,14.24,29.04,32.51,25.63,22.22,19,32.73,15.16,13.9,27.2,32.01,29.27,33,13.74,20.42,27.32,18.23,35.35,28.48,9.08,24.62,20.12,35.26,19.92,31.02,16.49,12.16,30.7,31.22,34.65,13.13,27.51,33.2,31.57,14.1,33.42,17.44,10.12,24.42,9.82,23.39,30.93,15.03,21.67,31.09,33.29,22.61,26.89,23.48,8.38,27.81,32.35,23.84]"
      ],
      "execution_count": 0,
      "outputs": []
    },
    {
      "metadata": {
        "id": "Db5x0Kf9Ig9k",
        "colab_type": "code",
        "outputId": "b091f936-5ad9-4330-f494-7e753f8fae87",
        "colab": {
          "base_uri": "https://localhost:8080/",
          "height": 35
        }
      },
      "cell_type": "code",
      "source": [
        "def covariance(x, y):\n",
        "  n = len(x)\n",
        "  return dot(de_mean(x), de_mean(y)) / (n - 1)\n",
        "covariance(num_friends, daily_minutes)"
      ],
      "execution_count": 0,
      "outputs": [
        {
          "output_type": "execute_result",
          "data": {
            "text/plain": [
              "22.425435139573064"
            ]
          },
          "metadata": {
            "tags": []
          },
          "execution_count": 83
        }
      ]
    },
    {
      "metadata": {
        "id": "oKTz66ShJBl6",
        "colab_type": "code",
        "colab": {}
      },
      "cell_type": "code",
      "source": [
        "def correlation(x, y):\n",
        "    stdev_x = standard_deviation(x)\n",
        "    stdev_y = standard_deviation(y)\n",
        "    if stdev_x > 0 and stdev_y > 0:\n",
        "        return covariance(x, y) / stdev_x / stdev_y\n",
        "    else:\n",
        "        return 0 # if no variation, correlation is zero"
      ],
      "execution_count": 0,
      "outputs": []
    },
    {
      "metadata": {
        "id": "xCYFyC_FJM9g",
        "colab_type": "code",
        "colab": {}
      },
      "cell_type": "code",
      "source": [
        "outlier = num_friends.index(100)"
      ],
      "execution_count": 0,
      "outputs": []
    },
    {
      "metadata": {
        "id": "HAjI8sGKIzeY",
        "colab_type": "code",
        "outputId": "a13f7ffd-2b2c-4597-ab3d-0d710fa58d7d",
        "colab": {
          "base_uri": "https://localhost:8080/",
          "height": 35
        }
      },
      "cell_type": "code",
      "source": [
        " num_friends_good = [x\n",
        "                    for i, x in enumerate(num_friends)\n",
        "                    if i != outlier]\n",
        "daily_minutes_good = [x\n",
        "                      for i, x in enumerate(daily_minutes)\n",
        "                      if i != outlier]\n",
        "correlation(num_friends_good, daily_minutes_good)"
      ],
      "execution_count": 0,
      "outputs": [
        {
          "output_type": "execute_result",
          "data": {
            "text/plain": [
              "0.5736792115665573"
            ]
          },
          "metadata": {
            "tags": []
          },
          "execution_count": 89
        }
      ]
    },
    {
      "metadata": {
        "id": "QyiRXJgsJPTO",
        "colab_type": "code",
        "outputId": "94837d38-82e3-4509-945f-ab8d0b67333b",
        "colab": {
          "base_uri": "https://localhost:8080/",
          "height": 362
        }
      },
      "cell_type": "code",
      "source": [
        "    print(\"num_points\", len(num_friends))\n",
        "    print(\"largest value\", max(num_friends))\n",
        "    print(\"smallest value\", min(num_friends))\n",
        "    print(\"second_smallest_value\", sorted_values[1])\n",
        "    print(\"second_largest_value\", sorted_values[-2]  )\n",
        "    print(\"mean(num_friends)\", mean(num_friends))\n",
        "    print(\"median(num_friends)\", median(num_friends))\n",
        "    print(\"quantile(num_friends, 0.10)\", quantile(num_friends, 0.10))\n",
        "    print(\"quantile(num_friends, 0.25)\", quantile(num_friends, 0.25))\n",
        "    print(\"quantile(num_friends, 0.75)\", quantile(num_friends, 0.75))\n",
        "    print(\"quantile(num_friends, 0.90)\", quantile(num_friends, 0.90))\n",
        "    print(\"mode(num_friends)\", mode(num_friends))\n",
        "    print(\"data_range(num_friends)\", data_range(num_friends))\n",
        "    print(\"variance(num_friends)\", variance(num_friends))\n",
        "    print(\"standard_deviation(num_friends)\", standard_deviation(num_friends))\n",
        "    print(\"interquartile_range(num_friends)\", interquartile_range(num_friends))\n",
        "\n",
        "    print(\"covariance(num_friends, daily_minutes)\", covariance(num_friends, daily_minutes))\n",
        "    print(\"correlation(num_friends, daily_minutes)\", correlation(num_friends, daily_minutes))\n",
        "    print(\"correlation(num_friends_good, daily_minutes_good)\", correlation(num_friends_good, daily_minutes_good))"
      ],
      "execution_count": 0,
      "outputs": [
        {
          "output_type": "stream",
          "text": [
            "num_points 204\n",
            "largest value 100\n",
            "smallest value 1\n",
            "second_smallest_value 1\n",
            "second_largest_value 49\n",
            "mean(num_friends) 7.333333333333333\n",
            "median(num_friends) 6.0\n",
            "quantile(num_friends, 0.10) 1\n",
            "quantile(num_friends, 0.25) 3\n",
            "quantile(num_friends, 0.75) 9\n",
            "quantile(num_friends, 0.90) 13\n",
            "mode(num_friends) [6, 1]\n",
            "data_range(num_friends) 99\n",
            "variance(num_friends) 81.54351395730716\n",
            "standard_deviation(num_friends) 9.03014473623248\n",
            "interquartile_range(num_friends) 6\n",
            "covariance(num_friends, daily_minutes) 22.425435139573064\n",
            "correlation(num_friends, daily_minutes) 0.24736957366478218\n",
            "correlation(num_friends_good, daily_minutes_good) 0.5736792115665573\n"
          ],
          "name": "stdout"
        }
      ]
    },
    {
      "metadata": {
        "id": "4B4WzakoJhDg",
        "colab_type": "text"
      },
      "cell_type": "markdown",
      "source": [
        "Chapter 6"
      ]
    },
    {
      "metadata": {
        "id": "iXs2kk1BJirL",
        "colab_type": "code",
        "outputId": "89c591fe-804f-4ac6-ca3c-386b5803dc34",
        "colab": {
          "base_uri": "https://localhost:8080/",
          "height": 53
        }
      },
      "cell_type": "code",
      "source": [
        "import random\n",
        "\n",
        "def random_kid():\n",
        "  return random.choice([\"boy\", \"girl\"])\n",
        "both_girls = 0\n",
        "older_girl = 0\n",
        "either_girl = 0\n",
        "random.seed(0)\n",
        "for _ in range(10000):\n",
        "  younger = random_kid()\n",
        "  older = random_kid()\n",
        "  if older == \"girl\":\n",
        "    older_girl += 1\n",
        "    if older == \"girl\" and younger == \"girl\":\n",
        "      both_girls += 1\n",
        "      if older == \"girl\" or younger == \"girl\":\n",
        "        either_girl += 1\n",
        "print (\"P(both | older):\" , both_girls / older_girl)\n",
        "print (\"P(both | either): \", both_girls / either_girl)"
      ],
      "execution_count": 0,
      "outputs": [
        {
          "output_type": "stream",
          "text": [
            "P(both | older): 0.5007089325501317\n",
            "P(both | either):  1.0\n"
          ],
          "name": "stdout"
        }
      ]
    },
    {
      "metadata": {
        "id": "PsEft3MSJ926",
        "colab_type": "code",
        "colab": {}
      },
      "cell_type": "code",
      "source": [
        "def uniform_pdf(x):\n",
        "  return 1 if x >= 0 and x < 1 else 0"
      ],
      "execution_count": 0,
      "outputs": []
    },
    {
      "metadata": {
        "id": "prNoCufkKAaY",
        "colab_type": "code",
        "colab": {}
      },
      "cell_type": "code",
      "source": [
        "def uniform_cdf(x):\n",
        "  \"returns the probability that a uniform random variable is <= x\"\n",
        "  if x < 0: return 0 # uniform random is never less than 0\n",
        "  elif x < 1: return x # e.g. P(X <= 0.4) = 0.4\n",
        "  else: return 1 # uniform random is always less than 1"
      ],
      "execution_count": 0,
      "outputs": []
    },
    {
      "metadata": {
        "id": "qaRjcckOKC93",
        "colab_type": "code",
        "colab": {}
      },
      "cell_type": "code",
      "source": [
        "def normal_pdf(x, mu=0, sigma=1):\n",
        "  sqrt_two_pi = math.sqrt(2 * math.pi)\n",
        "  return (math.exp(-(x-mu) ** 2 / 2 / sigma ** 2) / (sqrt_two_pi * sigma))"
      ],
      "execution_count": 0,
      "outputs": []
    },
    {
      "metadata": {
        "id": "-sPFEv2DKFXa",
        "colab_type": "code",
        "outputId": "f014f6e9-2ab1-4897-9681-ddd2b842c862",
        "colab": {
          "base_uri": "https://localhost:8080/",
          "height": 362
        }
      },
      "cell_type": "code",
      "source": [
        "xs = [x / 10.0 for x in range(-50, 50)]\n",
        "plt.plot(xs,[normal_pdf(x,sigma=1) for x in xs],'-',label='mu=0,sigma=1')\n",
        "plt.plot(xs,[normal_pdf(x,sigma=2) for x in xs],'--',label='mu=0,sigma=2')\n",
        "plt.plot(xs,[normal_pdf(x,sigma=0.5) for x in xs],':',label='mu=0,sigma=0.5')\n",
        "plt.plot(xs,[normal_pdf(x,mu=-1) for x in xs],'-.',label='mu=-1,sigma=1')\n",
        "plt.legend()\n",
        "plt.title(\"Various Normal pdfs\")\n",
        "plt.show()"
      ],
      "execution_count": 0,
      "outputs": [
        {
          "output_type": "display_data",
          "data": {
            "image/png": "[encoded data removed]",
            "text/plain": [
              "<Figure size 576x396 with 1 Axes>"
            ]
          },
          "metadata": {
            "tags": []
          }
        }
      ]
    },
    {
      "metadata": {
        "id": "R9auPNw1KIzv",
        "colab_type": "code",
        "colab": {}
      },
      "cell_type": "code",
      "source": [
        "def normal_cdf(x, mu=0,sigma=1):\n",
        "  return (1 + math.erf((x - mu) / math.sqrt(2) / sigma)) / 2"
      ],
      "execution_count": 0,
      "outputs": []
    },
    {
      "metadata": {
        "id": "hnqxmw0XKL9m",
        "colab_type": "code",
        "outputId": "87956ca2-311b-4830-ddec-03e82585515f",
        "colab": {
          "base_uri": "https://localhost:8080/",
          "height": 362
        }
      },
      "cell_type": "code",
      "source": [
        "xs = [x / 10.0 for x in range(-50, 50)]\n",
        "plt.plot(xs,[normal_cdf(x,sigma=1) for x in xs],'-',label='mu=0,sigma=1')\n",
        "plt.plot(xs,[normal_cdf(x,sigma=2) for x in xs],'--',label='mu=0,sigma=2')\n",
        "plt.plot(xs,[normal_cdf(x,sigma=0.5) for x in xs],':',label='mu=0,sigma=0.5')\n",
        "plt.plot(xs,[normal_cdf(x,mu=-1) for x in xs],'-.',label='mu=-1,sigma=1')\n",
        "plt.legend(loc=4) # bottom right\n",
        "plt.title(\"Various Normal cdfs\")\n",
        "plt.show()"
      ],
      "execution_count": 0,
      "outputs": [
        {
          "output_type": "display_data",
          "data": {
            "image/png": "[encoded data removed]",
            "text/plain": [
              "<Figure size 576x396 with 1 Axes>"
            ]
          },
          "metadata": {
            "tags": []
          }
        }
      ]
    },
    {
      "metadata": {
        "id": "vKKtPnhyKObp",
        "colab_type": "code",
        "colab": {}
      },
      "cell_type": "code",
      "source": [
        "def inverse_normal_cdf(p, mu=0, sigma=1, tolerance=0.00001):\n",
        "  \"\"\"find approximate inverse using binary search\"\"\"\n",
        "  if mu != 0 or sigma != 1:\n",
        "    return mu + sigma * inverse_normal_cdf(p, tolerance=tolerance)\n",
        "  low_z = -10.0 # normal_cdf(-10) is (very close to) 0\n",
        "  hi_z = 10.0 # normal_cdf(10) is (very close to) 1\n",
        "  while hi_z - low_z > tolerance:\n",
        "    mid_z = (low_z + hi_z) / 2 # consider the midpoint\n",
        "    mid_p = normal_cdf(mid_z) # and the cdf's value there\n",
        "    if mid_p < p:\n",
        "      low_z = mid_z\n",
        "    elif mid_p > p:\n",
        "      hi_z = mid_z\n",
        "    else:\n",
        "      break\n",
        "  return mid_z"
      ],
      "execution_count": 0,
      "outputs": []
    },
    {
      "metadata": {
        "id": "BVay-tpeKQvb",
        "colab_type": "code",
        "colab": {}
      },
      "cell_type": "code",
      "source": [
        "def bernoulli_trial(p):\n",
        "  return 1 if random.random() < p else 0\n",
        "def binomial(n, p):\n",
        "  return sum(bernoulli_trial(p) for _ in range(n))"
      ],
      "execution_count": 0,
      "outputs": []
    },
    {
      "metadata": {
        "id": "wfCLoilAKTiH",
        "colab_type": "code",
        "colab": {}
      },
      "cell_type": "code",
      "source": [
        "def make_hist(p, n, num_points):\n",
        "  data = [binomial(n, p) for _ in range(num_points)]\n",
        "  histogram = Counter(data)\n",
        "  plt.bar([x - 0.4 for x in histogram.keys()],\n",
        "          [v / num_points for v in histogram.values()],\n",
        "          0.8,\n",
        "          color='0.75')\n",
        "  mu = p * n\n",
        "  sigma = math.sqrt(n * p * (1 - p))\n",
        "  xs = range(min(data), max(data) + 1)\n",
        "  ys = [normal_cdf(i + 0.5, mu, sigma) - normal_cdf(i - 0.5, mu, sigma)\n",
        "        for i in xs]\n",
        "  plt.plot(xs,ys)\n",
        "  plt.title(\"Binomial Distribution vs. Normal Approximation\")\n",
        "  plt.show()"
      ],
      "execution_count": 0,
      "outputs": []
    },
    {
      "metadata": {
        "id": "CF17qAfvKvOV",
        "colab_type": "code",
        "outputId": "e94cf332-891c-48d9-fd07-2e13c27dba67",
        "colab": {
          "base_uri": "https://localhost:8080/",
          "height": 362
        }
      },
      "cell_type": "code",
      "source": [
        "make_hist(0.5, 100, 50)"
      ],
      "execution_count": 0,
      "outputs": [
        {
          "output_type": "display_data",
          "data": {
            "image/png": "[encoded data removed]",
            "text/plain": [
              "<Figure size 576x396 with 1 Axes>"
            ]
          },
          "metadata": {
            "tags": []
          }
        }
      ]
    },
    {
      "metadata": {
        "id": "Nxqmt-KpLCi5",
        "colab_type": "text"
      },
      "cell_type": "markdown",
      "source": [
        "Chapter 7"
      ]
    },
    {
      "metadata": {
        "id": "WH6Ne9rHLEnb",
        "colab_type": "code",
        "colab": {}
      },
      "cell_type": "code",
      "source": [
        "def normal_approximation_to_binomial(n, p):\n",
        "  \"\"\"finds mu and sigma corresponding to a Binomial(n, p)\"\"\"\n",
        "  mu = p * n\n",
        "  sigma = math.sqrt(p * (1 - p) * n)\n",
        "  return mu, sigma"
      ],
      "execution_count": 0,
      "outputs": []
    },
    {
      "metadata": {
        "id": "q-T5PGfhOicZ",
        "colab_type": "code",
        "colab": {}
      },
      "cell_type": "code",
      "source": [
        "mu_0, sigma_0 = normal_approximation_to_binomial(1000, 0.5)"
      ],
      "execution_count": 0,
      "outputs": []
    },
    {
      "metadata": {
        "id": "GrSeb1m8Op0K",
        "colab_type": "code",
        "outputId": "94a49f01-26b6-4c00-8a2b-97ebbc205b6f",
        "colab": {
          "base_uri": "https://localhost:8080/",
          "height": 35
        }
      },
      "cell_type": "code",
      "source": [
        "print(\"mu_0\", mu_0)"
      ],
      "execution_count": 0,
      "outputs": [
        {
          "output_type": "stream",
          "text": [
            "mu_0 500.0\n"
          ],
          "name": "stdout"
        }
      ]
    },
    {
      "metadata": {
        "id": "qTOc0vmLOq1V",
        "colab_type": "code",
        "outputId": "b319ab52-710d-4578-8010-489758f5a5c6",
        "colab": {
          "base_uri": "https://localhost:8080/",
          "height": 35
        }
      },
      "cell_type": "code",
      "source": [
        "print(\"sigma_0\", sigma_0)"
      ],
      "execution_count": 0,
      "outputs": [
        {
          "output_type": "stream",
          "text": [
            "sigma_0 15.811388300841896\n"
          ],
          "name": "stdout"
        }
      ]
    },
    {
      "metadata": {
        "id": "r0BXLmsBLSAL",
        "colab_type": "code",
        "colab": {}
      },
      "cell_type": "code",
      "source": [
        "#####\n",
        "#\n",
        "# probabilities a normal lies in an interval\n",
        "#\n",
        "######\n",
        "\n",
        "# the normal cdf _is_ the probability the variable is below a threshold\n",
        "normal_probability_below = normal_cdf"
      ],
      "execution_count": 0,
      "outputs": []
    },
    {
      "metadata": {
        "id": "iZhSeVcbLiku",
        "colab_type": "code",
        "colab": {}
      },
      "cell_type": "code",
      "source": [
        "# it's above the threshold if it's not below the threshold\n",
        "def normal_probability_above(lo, mu=0, sigma=1):\n",
        "    return 1 - normal_cdf(lo, mu, sigma)\n",
        "\n",
        "# it's between if it's less than hi, but not less than lo\n",
        "def normal_probability_between(lo, hi, mu=0, sigma=1):\n",
        "    return normal_cdf(hi, mu, sigma) - normal_cdf(lo, mu, sigma)\n",
        "\n",
        "# it's outside if it's not between\n",
        "def normal_probability_outside(lo, hi, mu=0, sigma=1):\n",
        "    return 1 - normal_probability_between(lo, hi, mu, sigma)"
      ],
      "execution_count": 0,
      "outputs": []
    },
    {
      "metadata": {
        "id": "vDqSHdBYNk2d",
        "colab_type": "code",
        "colab": {}
      },
      "cell_type": "code",
      "source": [
        "lo, hi = normal_two_sided_bounds(0.95, mu_0, sigma_0)"
      ],
      "execution_count": 0,
      "outputs": []
    },
    {
      "metadata": {
        "id": "cbYN3YUeNnlX",
        "colab_type": "code",
        "outputId": "eb6e2dfc-67ec-490b-b938-205e78b50880",
        "colab": {
          "base_uri": "https://localhost:8080/",
          "height": 35
        }
      },
      "cell_type": "code",
      "source": [
        "print(\"lo\", lo)"
      ],
      "execution_count": 0,
      "outputs": [
        {
          "output_type": "stream",
          "text": [
            "lo 469.01026640487555\n"
          ],
          "name": "stdout"
        }
      ]
    },
    {
      "metadata": {
        "id": "BvP94VZCNpyc",
        "colab_type": "code",
        "outputId": "4ef68fea-114a-488f-807a-298a9260f530",
        "colab": {
          "base_uri": "https://localhost:8080/",
          "height": 35
        }
      },
      "cell_type": "code",
      "source": [
        "print(\"hi\", hi)"
      ],
      "execution_count": 0,
      "outputs": [
        {
          "output_type": "stream",
          "text": [
            "hi 530.9897335951244\n"
          ],
          "name": "stdout"
        }
      ]
    },
    {
      "metadata": {
        "id": "GBNNMOVYLqju",
        "colab_type": "code",
        "colab": {}
      },
      "cell_type": "code",
      "source": [
        "def normal_upper_bound(probability, mu=0, sigma=1):\n",
        "  \"\"\"returns the z for which P(Z <= z) = probability\"\"\"\n",
        "  return inverse_normal_cdf(probability, mu, sigma)\n",
        "\n",
        "def normal_lower_bound(probability, mu=0, sigma=1):\n",
        "  \"\"\"returns the z for which P(Z >= z) = probability\"\"\"\n",
        "  return inverse_normal_cdf(1 - probability, mu, sigma)\n",
        "\n",
        "def normal_two_sided_bounds(probability, mu=0, sigma=1):\n",
        "  \"\"\"returns the symmetric (about the mean) bounds\n",
        "  that contain the specified probability\"\"\"\n",
        "  tail_probability = (1 - probability) / 2\n",
        "  upper_bound = normal_lower_bound(tail_probability, mu, sigma)\n",
        "  lower_bound = normal_upper_bound(tail_probability, mu, sigma)\n",
        "  return lower_bound, upper_bound"
      ],
      "execution_count": 0,
      "outputs": []
    },
    {
      "metadata": {
        "id": "h0AZSq-VM6Qc",
        "colab_type": "code",
        "outputId": "c1f5699f-ea9f-4e20-cba1-2f0b3c62bdfc",
        "colab": {
          "base_uri": "https://localhost:8080/",
          "height": 35
        }
      },
      "cell_type": "code",
      "source": [
        "print(\"mu_0\", mu_0)"
      ],
      "execution_count": 0,
      "outputs": [
        {
          "output_type": "stream",
          "text": [
            "mu_0 500.0\n"
          ],
          "name": "stdout"
        }
      ]
    },
    {
      "metadata": {
        "id": "B3vELsTWM7aQ",
        "colab_type": "code",
        "outputId": "208b106e-f741-4432-f098-42a3aceb930e",
        "colab": {
          "base_uri": "https://localhost:8080/",
          "height": 35
        }
      },
      "cell_type": "code",
      "source": [
        "print(\"sigma_0\", sigma_0)"
      ],
      "execution_count": 0,
      "outputs": [
        {
          "output_type": "stream",
          "text": [
            "sigma_0 15.811388300841896\n"
          ],
          "name": "stdout"
        }
      ]
    },
    {
      "metadata": {
        "id": "Seg2jb_MMLMR",
        "colab_type": "code",
        "outputId": "719e911f-e553-49b8-8793-8fdfb0922b46",
        "colab": {
          "base_uri": "https://localhost:8080/",
          "height": 35
        }
      },
      "cell_type": "code",
      "source": [
        "print(\"normal_two_sided_bounds(0.95, mu_0, sigma_0)\", normal_two_sided_bounds(0.95, mu_0, sigma_0))"
      ],
      "execution_count": 0,
      "outputs": [
        {
          "output_type": "stream",
          "text": [
            "normal_two_sided_bounds(0.95, mu_0, sigma_0) (469.01026640487555, 530.9897335951244)\n"
          ],
          "name": "stdout"
        }
      ]
    },
    {
      "metadata": {
        "id": "87mgZkFdMQOT",
        "colab_type": "code",
        "colab": {}
      },
      "cell_type": "code",
      "source": [
        "def two_sided_p_value(x, mu=0, sigma=1):\n",
        "    if x >= mu:\n",
        "        # if x is greater than the mean, the tail is above x\n",
        "        return 2 * normal_probability_above(x, mu, sigma)\n",
        "    else:\n",
        "        # if x is less than the mean, the tail is below x\n",
        "        return 2 * normal_probability_below(x, mu, sigma)"
      ],
      "execution_count": 0,
      "outputs": []
    },
    {
      "metadata": {
        "id": "S9G9beOTPcaC",
        "colab_type": "code",
        "outputId": "460b3738-ccd3-4052-a84e-94d3368e94c1",
        "colab": {
          "base_uri": "https://localhost:8080/",
          "height": 35
        }
      },
      "cell_type": "code",
      "source": [
        "two_sided_p_value(529.5, mu_0, sigma_0)"
      ],
      "execution_count": 0,
      "outputs": [
        {
          "output_type": "execute_result",
          "data": {
            "text/plain": [
              "0.06207721579598857"
            ]
          },
          "metadata": {
            "tags": []
          },
          "execution_count": 131
        }
      ]
    },
    {
      "metadata": {
        "id": "RFHwptJyRng2",
        "colab_type": "code",
        "outputId": "559f422e-e896-4dac-da47-51ca5a21da25",
        "colab": {
          "base_uri": "https://localhost:8080/",
          "height": 435
        }
      },
      "cell_type": "code",
      "source": [
        "if __name__ == \"__main__\":\n",
        "\n",
        "    mu_0, sigma_0 = normal_approximation_to_binomial(1000, 0.5)\n",
        "    print(\"mu_0\", mu_0)\n",
        "    print(\"sigma_0\", sigma_0)\n",
        "    print(\"normal_two_sided_bounds(0.95, mu_0, sigma_0)\", normal_two_sided_bounds(0.95, mu_0, sigma_0))\n",
        "    print()\n",
        "    print(\"power of a test\")\n",
        "\n",
        "    print(\"95% bounds based on assumption p is 0.5\")\n",
        "\n",
        "    lo, hi = normal_two_sided_bounds(0.95, mu_0, sigma_0)\n",
        "    print(\"lo\", lo)\n",
        "    print(\"hi\", hi)\n",
        "\n",
        "    print(\"actual mu and sigma based on p = 0.55\")\n",
        "    mu_1, sigma_1 = normal_approximation_to_binomial(1000, 0.55)\n",
        "    print(\"mu_1\", mu_1)\n",
        "    print(\"sigma_1\", sigma_1)\n",
        "\n",
        "    # a type 2 error means we fail to reject the null hypothesis\n",
        "    # which will happen when X is still in our original interval\n",
        "    type_2_probability = normal_probability_between(lo, hi, mu_1, sigma_1)\n",
        "    power = 1 - type_2_probability # 0.887\n",
        "\n",
        "    print(\"type 2 probability\", type_2_probability)\n",
        "    print(\"power\", power)\n",
        "    print\n",
        "\n",
        "    print(\"one-sided test\")\n",
        "    hi = normal_upper_bound(0.95, mu_0, sigma_0)\n",
        "    print(\"hi\", hi) # is 526 (< 531, since we need more probability in the upper tail)\n",
        "    type_2_probability = normal_probability_below(hi, mu_1, sigma_1)\n",
        "    power = 1 - type_2_probability # = 0.936\n",
        "    print(\"type 2 probability\", type_2_probability)\n",
        "    print(\"power\", power)\n",
        "    print()\n",
        "\n",
        "    print(\"two_sided_p_value(529.5, mu_0, sigma_0)\", two_sided_p_value(529.5, mu_0, sigma_0))\n",
        "\n",
        "    print(\"two_sided_p_value(531.5, mu_0, sigma_0)\", two_sided_p_value(531.5, mu_0, sigma_0))\n",
        "\n",
        "    print(\"upper_p_value(525, mu_0, sigma_0)\", upper_p_value(525, mu_0, sigma_0))\n",
        "    print(\"upper_p_value(527, mu_0, sigma_0)\", upper_p_value(527, mu_0, sigma_0))\n",
        "    print()"
      ],
      "execution_count": 0,
      "outputs": [
        {
          "output_type": "stream",
          "text": [
            "mu_0 500.0\n",
            "sigma_0 15.811388300841896\n",
            "normal_two_sided_bounds(0.95, mu_0, sigma_0) (469.01026640487555, 530.9897335951244)\n",
            "\n",
            "power of a test\n",
            "95% bounds based on assumption p is 0.5\n",
            "lo 469.01026640487555\n",
            "hi 530.9897335951244\n",
            "actual mu and sigma based on p = 0.55\n",
            "mu_1 550.0\n",
            "sigma_1 15.732132722552274\n",
            "type 2 probability 0.11345199870463285\n",
            "power 0.8865480012953671\n",
            "one-sided test\n",
            "hi 526.0073585242053\n",
            "type 2 probability 0.06362051966928273\n",
            "power 0.9363794803307173\n",
            "\n",
            "two_sided_p_value(529.5, mu_0, sigma_0) 0.06207721579598857\n",
            "two_sided_p_value(531.5, mu_0, sigma_0) 0.046345287837786575\n",
            "upper_p_value(525, mu_0, sigma_0) 0.056923149003329065\n",
            "upper_p_value(527, mu_0, sigma_0) 0.04385251499101195\n",
            "\n"
          ],
          "name": "stdout"
        }
      ]
    },
    {
      "metadata": {
        "id": "Y1Lc6d6QQLd8",
        "colab_type": "code",
        "outputId": "adfd83c5-1426-432f-e2e4-51b88ca9c9ba",
        "colab": {
          "base_uri": "https://localhost:8080/",
          "height": 35
        }
      },
      "cell_type": "code",
      "source": [
        "extreme_value_count = 0\n",
        "for _ in range(100000):\n",
        "  num_heads = sum(1 if random.random() < 0.5 else 0\n",
        "                  for _ in range(1000))\n",
        "  if num_heads >= 530 or num_heads <= 470:\n",
        "    extreme_value_count += 1 \n",
        "print (extreme_value_count / 100000)"
      ],
      "execution_count": 0,
      "outputs": [
        {
          "output_type": "stream",
          "text": [
            "0.0625\n"
          ],
          "name": "stdout"
        }
      ]
    },
    {
      "metadata": {
        "id": "Ck-6p6NQPIMs",
        "colab_type": "code",
        "colab": {}
      },
      "cell_type": "code",
      "source": [
        "upper_p_value = normal_probability_above\n",
        "lower_p_value = normal_probability_below"
      ],
      "execution_count": 0,
      "outputs": []
    },
    {
      "metadata": {
        "id": "IAU9y5tCRBx2",
        "colab_type": "code",
        "colab": {}
      },
      "cell_type": "code",
      "source": [
        "##\n",
        "#\n",
        "# P-hacking\n",
        "#\n",
        "##\n",
        "\n",
        "def run_experiment():\n",
        "    \"\"\"flip a fair coin 1000 times, True = heads, False = tails\"\"\"\n",
        "    return [random.random() < 0.5 for _ in range(1000)]\n",
        "\n",
        "def reject_fairness(experiment):\n",
        "    \"\"\"using the 5% significance levels\"\"\"\n",
        "    num_heads = len([flip for flip in experiment if flip])\n",
        "    return num_heads < 469 or num_heads > 531\n",
        "\n",
        "\n",
        "##\n",
        "#\n",
        "# running an A/B test\n",
        "#\n",
        "##\n",
        "\n",
        "def estimated_parameters(N, n):\n",
        "    p = n / N\n",
        "    sigma = math.sqrt(p * (1 - p) / N)\n",
        "    return p, sigma\n",
        "\n",
        "def a_b_test_statistic(N_A, n_A, N_B, n_B):\n",
        "    p_A, sigma_A = estimated_parameters(N_A, n_A)\n",
        "    p_B, sigma_B = estimated_parameters(N_B, n_B)\n",
        "    return (p_B - p_A) / math.sqrt(sigma_A ** 2 + sigma_B ** 2)\n",
        "\n",
        "##\n",
        "#\n",
        "# Bayesian Inference\n",
        "#\n",
        "##\n",
        "\n",
        "def B(alpha, beta):\n",
        "    \"\"\"a normalizing constant so that the total probability is 1\"\"\"\n",
        "    return math.gamma(alpha) * math.gamma(beta) / math.gamma(alpha + beta)\n",
        "\n",
        "def beta_pdf(x, alpha, beta):\n",
        "    if x < 0 or x > 1:          # no weight outside of [0, 1]\n",
        "        return 0\n",
        "    return x ** (alpha - 1) * (1 - x) ** (beta - 1) / B(alpha, beta)"
      ],
      "execution_count": 0,
      "outputs": []
    },
    {
      "metadata": {
        "id": "OIrqvEkyRNLY",
        "colab_type": "code",
        "outputId": "6399a10a-7cbd-4e80-e2c8-633b2347ff13",
        "colab": {
          "base_uri": "https://localhost:8080/",
          "height": 181
        }
      },
      "cell_type": "code",
      "source": [
        "if __name__ == \"__main__\":\n",
        "    print()\n",
        "\n",
        "    print(\"P-hacking\")\n",
        "\n",
        "    random.seed(0)\n",
        "    experiments = [run_experiment() for _ in range(1000)]\n",
        "    num_rejections = len([experiment\n",
        "                          for experiment in experiments\n",
        "                          if reject_fairness(experiment)])\n",
        "\n",
        "    print(num_rejections, \"rejections out of 1000\")\n",
        "    print()\n",
        "\n",
        "    print(\"A/B testing\")\n",
        "    z = a_b_test_statistic(1000, 200, 1000, 180)\n",
        "    print(\"a_b_test_statistic(1000, 200, 1000, 180)\", z)\n",
        "    print(\"p-value\", two_sided_p_value(z))\n",
        "    z = a_b_test_statistic(1000, 200, 1000, 150)\n",
        "    print(\"a_b_test_statistic(1000, 200, 1000, 150)\", z)\n",
        "    print(\"p-value\", two_sided_p_value(z))"
      ],
      "execution_count": 0,
      "outputs": [
        {
          "output_type": "stream",
          "text": [
            "\n",
            "P-hacking\n",
            "46 rejections out of 1000\n",
            "\n",
            "A/B testing\n",
            "a_b_test_statistic(1000, 200, 1000, 180) -1.1403464899034472\n",
            "p-value 0.254141976542236\n",
            "a_b_test_statistic(1000, 200, 1000, 150) -2.948839123097944\n",
            "p-value 0.003189699706216853\n"
          ],
          "name": "stdout"
        }
      ]
    }
  ]
}